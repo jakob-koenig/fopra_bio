{
 "cells": [
  {
   "cell_type": "code",
   "execution_count": 1,
   "id": "17f00901-a9c3-4143-a26f-96ebc2ce746a",
   "metadata": {},
   "outputs": [],
   "source": [
    "import os\n",
    "os.environ[\"CUDA_VISIBLE_DEVICES\"] = \"\"\n",
    "os.environ[\"JAX_PLATFORMS\"]=\"cpu\"\n",
    "\n",
    "import moscot.plotting as mtp\n",
    "from moscot import datasets\n",
    "from moscot.problems.cross_modality import TranslationProblem\n",
    "\n",
    "import numpy as np\n",
    "import pandas as pd\n",
    "import scipy\n",
    "from sklearn import preprocessing as pp\n",
    "\n",
    "import matplotlib.pyplot as plt\n",
    "\n",
    "import anndata as ad\n",
    "import scanpy as sc\n",
    "\n",
    "# My own packages\n",
    "import matplotlib.pyplot as plt\n",
    "from matplotlib_venn import venn2\n",
    "from plotnine import *\n"
   ]
  },
  {
   "cell_type": "code",
   "execution_count": 2,
   "id": "eed0af2a-c9bd-4b10-a3b3-e07616216f53",
   "metadata": {},
   "outputs": [
    {
     "data": {
      "text/plain": [
       "[CpuDevice(id=0)]"
      ]
     },
     "execution_count": 2,
     "metadata": {},
     "output_type": "execute_result"
    }
   ],
   "source": [
    "import jax\n",
    "jax.devices()"
   ]
  },
  {
   "cell_type": "markdown",
   "id": "4cc0dc67-951d-4ccd-b5b2-da8ec36ed34a",
   "metadata": {},
   "source": [
    "## Import the adatas and the translation problems"
   ]
  },
  {
   "cell_type": "code",
   "execution_count": 4,
   "id": "261e4bc5-5780-4cf2-9d5d-a6edda5b2d5f",
   "metadata": {},
   "outputs": [],
   "source": [
    "out_path = \"/p/project1/hai_fzj_bda/koenig8/ot/data/translation1\"\n",
    "adata_histo = ad.io.read_h5ad(os.path.join(out_path, \"adata_histo.h5ad\"))\n",
    "adata_st = ad.io.read_h5ad(os.path.join(out_path, \"adata_st.h5ad\"))\n",
    "\n",
    "ad_histo = ad.io.read_h5ad(os.path.join(out_path, \"adata_histo_small.h5ad\"))\n",
    "ad_st = ad.io.read_h5ad(os.path.join(out_path, \"adata_st_small.h5ad\"))\n",
    "\n",
    "unbalanced_histo = ad.io.read_h5ad(os.path.join(out_path, \"adata_histo_unbalanced.h5ad\"))\n",
    "unbalanced_st = ad.io.read_h5ad(os.path.join(out_path, \"adata_st_unbalanced.h5ad\"))"
   ]
  },
  {
   "cell_type": "code",
   "execution_count": 5,
   "id": "09f33ff9-8500-4b92-a91d-0deff0fe7b83",
   "metadata": {},
   "outputs": [
    {
     "name": "stdout",
     "output_type": "stream",
     "text": [
      "\u001b[33mWARNING \u001b[0m Densifying data in `adata.obsm\u001b[1m[\u001b[0m\u001b[32m'brain_area_onehot'\u001b[0m\u001b[1m]\u001b[0m`                                                      \n",
      "\u001b[33mWARNING \u001b[0m Densifying data in `adata.obsm\u001b[1m[\u001b[0m\u001b[32m'brain_area_onehot'\u001b[0m\u001b[1m]\u001b[0m`                                                      \n"
     ]
    }
   ],
   "source": [
    "problems_path = \"/p/project1/hai_fzj_bda/koenig8/ot/models/\"\n",
    "# Small tp\n",
    "tp = TranslationProblem(adata_src=ad_st, adata_tgt=ad_histo)\n",
    "tp = tp.prepare(src_attr=\"pca_embedding\", tgt_attr=\"uni_embedding\")\n",
    "tp = tp.load(os.path.join(problems_path, \"small_translation.pkl\"))\n",
    "\n",
    "# Small tp with linear term\n",
    "ftp = TranslationProblem(adata_src=ad_st, adata_tgt=ad_histo)\n",
    "ftp = ftp.prepare(\n",
    "    src_attr=\"pca_embedding\", tgt_attr=\"uni_embedding\", joint_attr=\"brain_area_onehot\"\n",
    ")\n",
    "ftp = ftp.load(os.path.join(problems_path, \"linear_small.pkl\"))"
   ]
  },
  {
   "cell_type": "code",
   "execution_count": 4,
   "id": "cc8589a3-2b38-4723-a637-c88750ba335c",
   "metadata": {},
   "outputs": [],
   "source": [
    "problems_path = \"/p/project1/hai_fzj_bda/koenig8/ot/models/\"\n",
    "tp2 = TranslationProblem(adata_src=unbalanced_st, adata_tgt=unbalanced_histo)\n",
    "tp2 = tp2.prepare(src_attr=\"pca_embedding\", tgt_attr=\"uni_embedding\")\n",
    "tp2 = tp2.load(os.path.join(problems_path, \"unbalanced_translation.pkl\"))"
   ]
  },
  {
   "cell_type": "markdown",
   "id": "a9d35926-5182-41c3-982f-13343ba55ff9",
   "metadata": {},
   "source": [
    "## Translate and save"
   ]
  },
  {
   "cell_type": "code",
   "execution_count": 5,
   "id": "a61f07be-7ac1-41a2-9aef-f7af62f721c4",
   "metadata": {},
   "outputs": [],
   "source": [
    "translated = tp.translate(source=\"src\", target=\"tgt\", forward=True)\n",
    "np.save(os.path.join(out_path, \"translated_small.npy\"), translated)"
   ]
  },
  {
   "cell_type": "code",
   "execution_count": 11,
   "id": "55cc4ce6-d7a3-4c0e-835d-9fd155aea4d4",
   "metadata": {},
   "outputs": [],
   "source": [
    "translated_fused = ftp.translate(source=\"src\", target=\"tgt\", forward=True)\n",
    "np.save(os.path.join(out_path, \"translated_linear_small.npy\"), translated_fused)"
   ]
  },
  {
   "cell_type": "code",
   "execution_count": 5,
   "id": "2582c418-0f57-4f25-b26c-5cbc065ce61f",
   "metadata": {},
   "outputs": [],
   "source": [
    "translated = tp2.translate(source=\"src\", target=\"tgt\", forward=True)\n",
    "np.save(os.path.join(out_path, \"translated_unbalanced.npy\"), translated)"
   ]
  }
 ],
 "metadata": {
  "kernelspec": {
   "display_name": "opt_transport",
   "language": "python",
   "name": "opt_transport"
  },
  "language_info": {
   "codemirror_mode": {
    "name": "ipython",
    "version": 3
   },
   "file_extension": ".py",
   "mimetype": "text/x-python",
   "name": "python",
   "nbconvert_exporter": "python",
   "pygments_lexer": "ipython3",
   "version": "3.10.4"
  }
 },
 "nbformat": 4,
 "nbformat_minor": 5
}
