{
 "cells": [
  {
   "cell_type": "markdown",
   "id": "16eb729f-fede-412a-b323-90ad673f97ba",
   "metadata": {},
   "source": [
    "# Try to evaluate the mixing of the OT solution"
   ]
  },
  {
   "cell_type": "code",
   "execution_count": 1,
   "id": "f5b869bf-f1b3-44b4-b53a-c76b551c6775",
   "metadata": {},
   "outputs": [],
   "source": [
    "from moscot.problems.cross_modality import TranslationProblem\n",
    "\n",
    "import numpy as np\n",
    "\n",
    "import matplotlib.pyplot as plt\n",
    "\n",
    "import anndata as ad\n",
    "import scanpy as sc\n",
    "import jax\n",
    "import os\n",
    "import argparse\n",
    "import gc\n",
    "\n",
    "import pandas as pd\n",
    "from sklearn.metrics import silhouette_score, adjusted_rand_score, r2_score\n",
    "from sklearn.cluster import KMeans\n",
    "from tqdm import tqdm"
   ]
  },
  {
   "cell_type": "markdown",
   "id": "9142d9e0-c020-4052-9bc9-8aaadd9014e7",
   "metadata": {},
   "source": [
    "## Load the data"
   ]
  },
  {
   "cell_type": "code",
   "execution_count": 2,
   "id": "507ab9a7-f0cb-45e6-ba80-a3f16ed1405c",
   "metadata": {},
   "outputs": [
    {
     "data": {
      "text/plain": [
       "(AnnData object with n_obs × n_vars = 50000 × 50\n",
       "     obs: 'patch_id', 'brain_area', 'patchsize', 'x_st', 'y_st', 'z_st', 'brain_section_label', 'section', 'test_set', 'val_set', 'train_set'\n",
       "     uns: 'neighbors', 'umap'\n",
       "     obsm: 'X_umap', 'brain_area_onehot', 'brain_area_similarities', 'pca_embedding', 'pca_plus_slides', 'pca_plus_slides_scaled'\n",
       "     obsp: 'connectivities', 'distances',\n",
       " View of AnnData object with n_obs × n_vars = 50000 × 1536\n",
       "     obs: 'image_id', 'patchsize', 'center_ccf', 'pixel_coord', 'distance', 'nearest_ST', 'nearest_cell_id', 'target_atlas_plate', 'distance_new', 'x', 'y', 'z', 'x_st', 'y_st', 'z_st', 'image_nr', 'brain_area', 'group', 'slice', 'in_sample', 'test_set', 'val_set', 'train_set'\n",
       "     obsm: 'brain_area_onehot', 'brain_area_similarities', 'uni_embedding', 'uni_pca_95', 'uni_pca_plus_coords')"
      ]
     },
     "execution_count": 2,
     "metadata": {},
     "output_type": "execute_result"
    }
   ],
   "source": [
    "path = \"/p/project1/hai_fzj_bda/koenig8/ot/data/\"\n",
    "adata_src = sc.read_h5ad(os.path.join(path, \"adata_st.h5ad\"))\n",
    "adata_target = sc.read_h5ad(os.path.join(path, \"adata_histo.h5ad\"))\n",
    "adata_target = adata_target[adata_target.obs.in_sample]\n",
    "adata_src, adata_target"
   ]
  },
  {
   "cell_type": "markdown",
   "id": "1dfc1eff-d3fd-4914-92b2-d79c20f49764",
   "metadata": {},
   "source": [
    "## First try it for the unfused setting"
   ]
  },
  {
   "cell_type": "code",
   "execution_count": 3,
   "id": "aa60c0ff-e139-478a-947b-5a73dccda6dd",
   "metadata": {},
   "outputs": [],
   "source": [
    "epsilon = 5e-3\n",
    "seed = 42\n",
    "source_key = \"pca_embedding\"\n",
    "target_key = \"uni_pca_95\"\n",
    "linear_term = None\n",
    "alpha = 1.0\n",
    "path = \"/p/project1/hai_fzj_bda/koenig8/ot/mixing/unfused_basic\"\n",
    "\n",
    "def test_input_size(adata_src, adata_target, path, fractions = 1,  rank = -1):\n",
    "    N = adata_src.shape[0]\n",
    "    M = adata_target.shape[0]\n",
    "\n",
    "    if fractions > 1:\n",
    "        rng = np.random.default_rng(seed = seed)\n",
    "        perm_N = rng.choice(N, size = N, replace = False)\n",
    "        perm_M = rng.choice(M, size = M, replace = False)\n",
    "        step_N = int(np.ceil(N/fractions))\n",
    "        step_M = int(np.ceil(M/fractions))\n",
    "        \n",
    "        adatas_src = [adata_src[perm_N[i*step_N:(i+1)*step_N], :] for i in range(fractions)]\n",
    "        adatas_target = [adata_target[perm_M[i*step_M:(i+1)*step_M], :] for i in range(fractions)]\n",
    "    else:\n",
    "        adatas_src = [adata_src, ]\n",
    "        adatas_target = [adata_target, ]\n",
    "        perm_N = np.arange(N)\n",
    "        perm_M = np.arange(M)\n",
    "        step_N = N,\n",
    "        step_M = M\n",
    "        \n",
    "    print(\"Source Adatas:\", [ad.shape for ad in adatas_src])\n",
    "    print(\"Target Adatas:\", [ad.shape for ad in adatas_target])\n",
    "\n",
    "    for i in range(fractions):\n",
    "        ad_src = adatas_src[i]\n",
    "        ad_target = adatas_target[i]\n",
    "        \n",
    "        tp = TranslationProblem(adata_src=ad_src, adata_tgt=ad_target)\n",
    "        tp = tp.prepare(src_attr=source_key, tgt_attr=target_key, joint_attr = linear_term)\n",
    "        \n",
    "        try:\n",
    "            tp = tp.solve(alpha=alpha, epsilon=epsilon, rank = rank)\n",
    "            tp.save(os.path.join(path, f\"opt_transport{str(i)}.pkl\"), overwrite = True)\n",
    "            [x.delete() for x in jax.devices()[0].client.live_buffers()]\n",
    "            \n",
    "        except RuntimeError as e:\n",
    "            if \"out of memory\" in str(e).lower():\n",
    "                print(e)\n",
    "                print(\"======================================FAILURE=========================================\")\n",
    "                return False  # OOM Error\n",
    "            else:\n",
    "                raise e  # Some other error\n",
    "    # It worked :)\n",
    "    if fractions > 1:\n",
    "        np.save(os.path.join(path, f\"permutation_source.npy\"), perm_N)\n",
    "        np.save(os.path.join(path, f\"permutation_target.npy\"), perm_M)\n",
    "    return (adatas_src, adatas_target, N, M, step_N, step_M, perm_N, perm_M)"
   ]
  },
  {
   "cell_type": "code",
   "execution_count": 4,
   "id": "5ae8502d-6a2a-4165-90fc-e1068ab941db",
   "metadata": {},
   "outputs": [
    {
     "name": "stdout",
     "output_type": "stream",
     "text": [
      "===========================================Fractions 1==========================================\n",
      "Source Adatas: [(50000, 50)]\n",
      "Target Adatas: [(50000, 1536)]\n",
      "\u001b[34mINFO    \u001b[0m Solving `\u001b[1;36m1\u001b[0m` problems                                                                                      \n",
      "\u001b[34mINFO    \u001b[0m Solving problem OTProblem\u001b[1m[\u001b[0m\u001b[33mstage\u001b[0m=\u001b[32m'prepared'\u001b[0m, \u001b[33mshape\u001b[0m=\u001b[1m(\u001b[0m\u001b[1;36m50000\u001b[0m, \u001b[1;36m50000\u001b[0m\u001b[1m)\u001b[0m\u001b[1m]\u001b[0m.                                        \n"
     ]
    },
    {
     "name": "stderr",
     "output_type": "stream",
     "text": [
      "2025-04-28 09:45:58.994370: W external/xla/xla/hlo/transforms/simplifiers/hlo_rematerialization.cc:3021] Can't reduce memory use below 10.29GiB (11054937669 bytes) by rematerialization; only reduced to 56.22GiB (60366676698 bytes), down from 57.38GiB (61608401754 bytes) originally\n"
     ]
    },
    {
     "name": "stdout",
     "output_type": "stream",
     "text": [
      "RESOURCE_EXHAUSTED: Out of memory while trying to allocate 20604005072 bytes.\n",
      "======================================FAILURE=========================================\n",
      "===========================================Fractions 2==========================================\n",
      "Source Adatas: [(25000, 50), (25000, 50)]\n",
      "Target Adatas: [(25000, 1536), (25000, 1536)]\n",
      "\u001b[34mINFO    \u001b[0m Solving `\u001b[1;36m1\u001b[0m` problems                                                                                      \n",
      "\u001b[34mINFO    \u001b[0m Solving problem OTProblem\u001b[1m[\u001b[0m\u001b[33mstage\u001b[0m=\u001b[32m'prepared'\u001b[0m, \u001b[33mshape\u001b[0m=\u001b[1m(\u001b[0m\u001b[1;36m25000\u001b[0m, \u001b[1;36m25000\u001b[0m\u001b[1m)\u001b[0m\u001b[1m]\u001b[0m.                                        \n"
     ]
    },
    {
     "name": "stderr",
     "output_type": "stream",
     "text": [
      "2025-04-28 09:46:11.346587: W external/xla/xla/tsl/framework/bfc_allocator.cc:501] Allocator (GPU_0_bfc) ran out of memory trying to allocate 19.19GiB (rounded to 20604005120)requested by op \n",
      "2025-04-28 09:46:11.346833: W external/xla/xla/tsl/framework/bfc_allocator.cc:512] ****************************************************************____________________________________\n",
      "E0428 09:46:11.346915 2471020 pjrt_stream_executor_client.cc:3026] Execution of replica 0 failed: RESOURCE_EXHAUSTED: Out of memory while trying to allocate 20604005072 bytes. [tf-allocator-allocation-error='']\n"
     ]
    },
    {
     "name": "stdout",
     "output_type": "stream",
     "text": [
      "\u001b[34mINFO    \u001b[0m Solving `\u001b[1;36m1\u001b[0m` problems                                                                                      \n",
      "\u001b[34mINFO    \u001b[0m Solving problem OTProblem\u001b[1m[\u001b[0m\u001b[33mstage\u001b[0m=\u001b[32m'prepared'\u001b[0m, \u001b[33mshape\u001b[0m=\u001b[1m(\u001b[0m\u001b[1;36m25000\u001b[0m, \u001b[1;36m25000\u001b[0m\u001b[1m)\u001b[0m\u001b[1m]\u001b[0m.                                        \n",
      "Stopped at 2 fractions\n"
     ]
    }
   ],
   "source": [
    "fractions = 0\n",
    "\n",
    "max_fractions = 12\n",
    "\n",
    "success = False\n",
    "while (not success) and (fractions <= max_fractions):\n",
    "    # Increase number of splits\n",
    "    fractions += 1\n",
    "    print(f\"===========================================Fractions {fractions}==========================================\")\n",
    "    success = test_input_size(adata_src, adata_target, path, fractions)\n",
    "\n",
    "print(\"Stopped at\", fractions, \"fractions\")\n",
    "src_adatas, target_adatas, N, M, step_N, step_M, perm_N, perm_M = success"
   ]
  },
  {
   "cell_type": "code",
   "execution_count": 4,
   "id": "fc07a23e-4f88-4dce-9301-aadc8b007597",
   "metadata": {},
   "outputs": [],
   "source": [
    "def switch_to_cpu():\n",
    "    \"\"\"Switch JAX to CPU mode.\"\"\"\n",
    "    [x.delete() for x in jax.devices()[0].client.live_buffers()]\n",
    "    gc.collect()\n",
    "    jax.config.update(\"jax_default_device\", jax.devices(\"cpu\")[0])\n",
    "\n",
    "def switch_to_gpu():\n",
    "    \"\"\"Switch JAX to GPU mode.\"\"\"\n",
    "    gc.collect()\n",
    "    jax.config.update(\"jax_default_device\", jax.devices(\"gpu\")[0])"
   ]
  },
  {
   "cell_type": "code",
   "execution_count": 5,
   "id": "2d562b4f-6898-4bc6-9ecb-37850668ee11",
   "metadata": {},
   "outputs": [],
   "source": [
    "## Use custom translation method\n",
    "def _get_features(\n",
    "            adata,\n",
    "            attr,\n",
    "        ):\n",
    "    data = getattr(adata, attr[\"attr\"])\n",
    "    key = attr.get(\"key\")\n",
    "    return data if key is None else data[key]"
   ]
  },
  {
   "cell_type": "code",
   "execution_count": 6,
   "id": "57511e2c-ef34-4bb6-a6a7-2c6cc8e309e5",
   "metadata": {},
   "outputs": [],
   "source": [
    "def translate(adata_src, adata_target, src_adatas, target_adatas):\n",
    "    print(f\"{fractions} fractions, with combined shape {(N, M)}\")\n",
    "\n",
    "    tps = []\n",
    "    for i in range(fractions):    \n",
    "        tp = TranslationProblem(adata_src=src_adatas[i], adata_tgt=target_adatas[i])\n",
    "        tp = tp.prepare(src_attr=source_key, tgt_attr=target_key, joint_attr=linear_term)\n",
    "        tp = tp.load(os.path.join(path, f\"opt_transport{str(i)}.pkl\"))\n",
    "        tps.append(tp)\n",
    "    print(\"finished loading problems\")\n",
    "    \n",
    "    transformations = []\n",
    "    for p in range(fractions):\n",
    "        print(f\"======================================Fraction {p} ============================================\")\n",
    "        tp = tps[p]\n",
    "        ad_target = target_adatas[p]\n",
    "        src_attr = tp._src_attr\n",
    "        tgt_attr = tp._tgt_attr\n",
    "        features = _get_features(ad_target, attr=tgt_attr)\n",
    "    \n",
    "        batch_size = 30\n",
    "        batch_transformed = []\n",
    "        prop = tp[\"src\", \"tgt\"]\n",
    "        \n",
    "        print(\"Performing\", int(features.shape[1] / batch_size) + 1, \"translation steps\")\n",
    "        [print(\"_\", end='') for _ in range(int(features.shape[1] / batch_size) + 1)]\n",
    "        print(\"\")\n",
    "        for i in range(0, features.shape[1], batch_size):\n",
    "            print('■', end='')\n",
    "            batch_transformed.append(prop.pull(\n",
    "                features[:, i:i+batch_size], subset = None, normalize = False, scale_by_marginals = True\n",
    "            ))\n",
    "        print(\"\")\n",
    "        bt = np.concatenate(batch_transformed, axis=1)\n",
    "        transformations.append(bt)\n",
    "    \n",
    "    ## Put it all together as one output array\n",
    "    transformed = np.concatenate(transformations, axis=0)\n",
    "    adata_src = adata_src.copy()\n",
    "    adata_target = adata_target.copy()\n",
    "    \n",
    "    if fractions > 1:\n",
    "        transformed = pd.DataFrame(transformed, index = perm_N).sort_index().to_numpy()\n",
    "        adata_src.obs[\"fraction\"] = -1\n",
    "        adata_src.obs.iloc[perm_N, -1] = np.repeat(np.arange(fractions), step_N)[perm_N]\n",
    "        adata_target.obs[\"fraction\"] = -1\n",
    "        adata_target.obs.iloc[perm_M, -1] = np.repeat(np.arange(fractions), step_M)[perm_M]\n",
    "    \n",
    "    adata_src.obsm[\"transformed\"] = transformed\n",
    "    np.save(os.path.join(path, \"translated.npy\"), transformed)\n",
    "    \n",
    "    adata_src.write_h5ad(os.path.join(path, \"adata_src.h5ad\"))\n",
    "    adata_target.write_h5ad(os.path.join(path, \"adata_target.h5ad\"))\n",
    "    return adata_src, adata_target\n",
    "    "
   ]
  },
  {
   "cell_type": "code",
   "execution_count": 7,
   "id": "67531549-f8f4-4a80-95bc-681afa75b255",
   "metadata": {},
   "outputs": [
    {
     "ename": "NameError",
     "evalue": "name 'src_adatas' is not defined",
     "output_type": "error",
     "traceback": [
      "\u001b[0;31m---------------------------------------------------------------------------\u001b[0m",
      "\u001b[0;31mNameError\u001b[0m                                 Traceback (most recent call last)",
      "Cell \u001b[0;32mIn[7], line 2\u001b[0m\n\u001b[1;32m      1\u001b[0m switch_to_cpu()\n\u001b[0;32m----> 2\u001b[0m st_unfused, histo_unfused \u001b[38;5;241m=\u001b[39m translate(adata_src, adata_target, \u001b[43msrc_adatas\u001b[49m, target_adatas)\n\u001b[1;32m      3\u001b[0m st_unfused, histo_unfused\n",
      "\u001b[0;31mNameError\u001b[0m: name 'src_adatas' is not defined"
     ]
    }
   ],
   "source": [
    "switch_to_cpu()\n",
    "st_unfused, histo_unfused = translate(adata_src, adata_target, src_adatas, target_adatas)\n",
    "st_unfused, histo_unfused"
   ]
  },
  {
   "cell_type": "markdown",
   "id": "3c60e1e8-fbed-45ff-a06c-7862619b1558",
   "metadata": {},
   "source": [
    "#### Look at the scores"
   ]
  },
  {
   "cell_type": "code",
   "execution_count": 10,
   "id": "6d128aa5-7951-48fd-9dea-7bd6c94fbf31",
   "metadata": {},
   "outputs": [
    {
     "data": {
      "text/plain": [
       "np.float32(0.051571615)"
      ]
     },
     "execution_count": 10,
     "metadata": {},
     "output_type": "execute_result"
    }
   ],
   "source": [
    "mixing_unfused = silhouette_score(\n",
    "    np.vstack((st_unfused.obsm[\"transformed\"], histo_unfused.obsm[target_key])), \n",
    "    labels=np.concatenate((\n",
    "        np.zeros(st_unfused.shape[0]).astype(bool), np.ones(histo_unfused.shape[0]).astype(bool)\n",
    "    )), \n",
    "    random_state = seed\n",
    ")\n",
    "mixing_unfused"
   ]
  },
  {
   "cell_type": "code",
   "execution_count": 7,
   "id": "f39c89fd-068e-47cc-bf7b-22001f797964",
   "metadata": {},
   "outputs": [],
   "source": [
    "def translation_metric(adatas_src, adatas_target):\n",
    "    predictions_T = []\n",
    "    true_T = []\n",
    "    tps = []\n",
    "    for i in range(fractions):    \n",
    "        tp = TranslationProblem(adata_src=adatas_src[i], adata_tgt=adatas_target[i])\n",
    "        tp = tp.prepare(src_attr=source_key, tgt_attr=target_key, joint_attr=linear_term)\n",
    "        tp = tp.load(os.path.join(path, f\"opt_transport{str(i)}.pkl\"))\n",
    "        tps.append(tp)\n",
    "    transitions = [tp[('src', 'tgt')].solution.transport_matrix.__array__() for tp in tps]\n",
    "    \n",
    "    for i in range(fractions):\n",
    "        print(f\"Fraction {i}\")\n",
    "        ad_st = adatas_src[i]\n",
    "        ad_histo = adatas_target[i]\n",
    "        \n",
    "        histo_coordinates = ad_histo.obs.loc[:, [\"x_st\", \"y_st\", \"z_st\"]].to_numpy()\n",
    "        spatial_coordinates = ad_st.obs.loc[:, [\"x_st\", \"y_st\", \"z_st\"]].to_numpy()\n",
    "        T = transitions[i]\n",
    "        true_T.append(spatial_coordinates)\n",
    "    \n",
    "        for j in tqdm(range(ad_st.shape[0])):\n",
    "            t_j = T[j] / np.sum(T[j])\n",
    "            t_j = np.repeat(t_j[:, None], 3, axis=1)\n",
    "            prediction = np.sum(histo_coordinates * t_j, axis = 0)\n",
    "            predictions_T.append(prediction)\n",
    "    \n",
    "    predictions_T = np.vstack(predictions_T)\n",
    "    true_T = np.vstack(true_T)\n",
    "    \n",
    "    return r2_score(true_T, predictions_T)"
   ]
  },
  {
   "cell_type": "code",
   "execution_count": 17,
   "id": "e7e4db3c-c426-4785-a4c2-0cc8b52bc501",
   "metadata": {},
   "outputs": [
    {
     "name": "stdout",
     "output_type": "stream",
     "text": [
      "Fraction 0\n"
     ]
    },
    {
     "name": "stderr",
     "output_type": "stream",
     "text": [
      "100%|██████████| 25000/25000 [00:18<00:00, 1353.79it/s]\n"
     ]
    },
    {
     "name": "stdout",
     "output_type": "stream",
     "text": [
      "Fraction 1\n"
     ]
    },
    {
     "name": "stderr",
     "output_type": "stream",
     "text": [
      "100%|██████████| 25000/25000 [00:18<00:00, 1345.82it/s]\n"
     ]
    },
    {
     "data": {
      "text/plain": [
       "-0.16134399761538631"
      ]
     },
     "execution_count": 17,
     "metadata": {},
     "output_type": "execute_result"
    }
   ],
   "source": [
    "coords_unfused = translation_metric(src_adatas, target_adatas)\n",
    "coords_unfused"
   ]
  },
  {
   "cell_type": "code",
   "execution_count": 8,
   "id": "3b1c7c01-ab7d-4e31-8278-7386d4bfbeac",
   "metadata": {},
   "outputs": [],
   "source": [
    "def ARI(src_embed, target_embed):\n",
    "    embeddings = np.vstack((src_embed, target_embed))\n",
    "    true_labels = np.array([0] * src_embed.shape[0] + [1] * target_embed.shape[0]).astype(bool)\n",
    "    \n",
    "    kmeans = KMeans(n_clusters=2, random_state=seed)\n",
    "    predicted_labels = kmeans.fit_predict(embeddings)\n",
    "    print(\"Finished kmeans:\", np.unique(predicted_labels, return_counts=True))\n",
    "    return adjusted_rand_score(true_labels, predicted_labels)"
   ]
  },
  {
   "cell_type": "code",
   "execution_count": 19,
   "id": "4b3e7191-16e9-46ac-82f4-51572a59936f",
   "metadata": {},
   "outputs": [
    {
     "name": "stdout",
     "output_type": "stream",
     "text": [
      "Finished kmeans: (array([0, 1], dtype=int32), array([64437, 35563]))\n"
     ]
    },
    {
     "data": {
      "text/plain": [
       "0.0003964568502878072"
      ]
     },
     "execution_count": 19,
     "metadata": {},
     "output_type": "execute_result"
    }
   ],
   "source": [
    "ari_unfused = ARI(st_unfused.obsm[\"transformed\"], histo_unfused.obsm[target_key])\n",
    "ari_unfused"
   ]
  },
  {
   "cell_type": "markdown",
   "id": "03774a84-fdb4-4bc9-b7ba-92121afe7f19",
   "metadata": {},
   "source": [
    "# Repeat for the fused setting"
   ]
  },
  {
   "cell_type": "code",
   "execution_count": 17,
   "id": "e83ee8f5-6c1d-48cb-8afd-0e954d121e62",
   "metadata": {},
   "outputs": [
    {
     "name": "stdout",
     "output_type": "stream",
     "text": [
      "===========================================Fractions 4==========================================\n",
      "Source Adatas: [(12500, 50), (12500, 50), (12500, 50), (12500, 50)]\n",
      "Target Adatas: [(12500, 1536), (12500, 1536), (12500, 1536), (12500, 1536)]\n",
      "\u001b[33mWARNING \u001b[0m Densifying data in `adata.obsm\u001b[1m[\u001b[0m\u001b[32m'brain_area_onehot'\u001b[0m\u001b[1m]\u001b[0m`                                                      \n",
      "\u001b[33mWARNING \u001b[0m Densifying data in `adata.obsm\u001b[1m[\u001b[0m\u001b[32m'brain_area_onehot'\u001b[0m\u001b[1m]\u001b[0m`                                                      \n",
      "\u001b[34mINFO    \u001b[0m Solving `\u001b[1;36m1\u001b[0m` problems                                                                                      \n",
      "\u001b[34mINFO    \u001b[0m Solving problem OTProblem\u001b[1m[\u001b[0m\u001b[33mstage\u001b[0m=\u001b[32m'prepared'\u001b[0m, \u001b[33mshape\u001b[0m=\u001b[1m(\u001b[0m\u001b[1;36m12500\u001b[0m, \u001b[1;36m12500\u001b[0m\u001b[1m)\u001b[0m\u001b[1m]\u001b[0m.                                        \n",
      "\u001b[33mWARNING \u001b[0m Densifying data in `adata.obsm\u001b[1m[\u001b[0m\u001b[32m'brain_area_onehot'\u001b[0m\u001b[1m]\u001b[0m`                                                      \n",
      "\u001b[33mWARNING \u001b[0m Densifying data in `adata.obsm\u001b[1m[\u001b[0m\u001b[32m'brain_area_onehot'\u001b[0m\u001b[1m]\u001b[0m`                                                      \n",
      "\u001b[34mINFO    \u001b[0m Solving `\u001b[1;36m1\u001b[0m` problems                                                                                      \n",
      "\u001b[34mINFO    \u001b[0m Solving problem OTProblem\u001b[1m[\u001b[0m\u001b[33mstage\u001b[0m=\u001b[32m'prepared'\u001b[0m, \u001b[33mshape\u001b[0m=\u001b[1m(\u001b[0m\u001b[1;36m12500\u001b[0m, \u001b[1;36m12500\u001b[0m\u001b[1m)\u001b[0m\u001b[1m]\u001b[0m.                                        \n",
      "\u001b[33mWARNING \u001b[0m Densifying data in `adata.obsm\u001b[1m[\u001b[0m\u001b[32m'brain_area_onehot'\u001b[0m\u001b[1m]\u001b[0m`                                                      \n",
      "\u001b[33mWARNING \u001b[0m Densifying data in `adata.obsm\u001b[1m[\u001b[0m\u001b[32m'brain_area_onehot'\u001b[0m\u001b[1m]\u001b[0m`                                                      \n",
      "\u001b[34mINFO    \u001b[0m Solving `\u001b[1;36m1\u001b[0m` problems                                                                                      \n",
      "\u001b[34mINFO    \u001b[0m Solving problem OTProblem\u001b[1m[\u001b[0m\u001b[33mstage\u001b[0m=\u001b[32m'prepared'\u001b[0m, \u001b[33mshape\u001b[0m=\u001b[1m(\u001b[0m\u001b[1;36m12500\u001b[0m, \u001b[1;36m12500\u001b[0m\u001b[1m)\u001b[0m\u001b[1m]\u001b[0m.                                        \n",
      "\u001b[33mWARNING \u001b[0m Densifying data in `adata.obsm\u001b[1m[\u001b[0m\u001b[32m'brain_area_onehot'\u001b[0m\u001b[1m]\u001b[0m`                                                      \n",
      "\u001b[33mWARNING \u001b[0m Densifying data in `adata.obsm\u001b[1m[\u001b[0m\u001b[32m'brain_area_onehot'\u001b[0m\u001b[1m]\u001b[0m`                                                      \n",
      "\u001b[34mINFO    \u001b[0m Solving `\u001b[1;36m1\u001b[0m` problems                                                                                      \n",
      "\u001b[34mINFO    \u001b[0m Solving problem OTProblem\u001b[1m[\u001b[0m\u001b[33mstage\u001b[0m=\u001b[32m'prepared'\u001b[0m, \u001b[33mshape\u001b[0m=\u001b[1m(\u001b[0m\u001b[1;36m12500\u001b[0m, \u001b[1;36m12500\u001b[0m\u001b[1m)\u001b[0m\u001b[1m]\u001b[0m.                                        \n",
      "Stopped at 4 fractions\n"
     ]
    }
   ],
   "source": [
    "epsilon = 5e-2\n",
    "seed = 42\n",
    "source_key = \"pca_embedding\"\n",
    "target_key = \"uni_pca_95\"\n",
    "linear_term = \"brain_area_onehot\"\n",
    "alpha = 0.3\n",
    "path = \"/p/project1/hai_fzj_bda/koenig8/ot/mixing/fused_basic\"\n",
    "\n",
    "switch_to_gpu()\n",
    "\n",
    "fractions = 3\n",
    "\n",
    "max_fractions = 12\n",
    "\n",
    "success = False\n",
    "while (not success) and (fractions <= max_fractions):\n",
    "    # Increase number of splits\n",
    "    fractions += 1\n",
    "    print(f\"===========================================Fractions {fractions}==========================================\")\n",
    "    success = test_input_size(adata_src, adata_target, path, fractions)\n",
    "\n",
    "print(\"Stopped at\", fractions, \"fractions\")\n",
    "src_adatas, target_adatas, N, M, step_N, step_M, perm_N, perm_M = success"
   ]
  },
  {
   "cell_type": "code",
   "execution_count": 18,
   "id": "e21ffe6f-cd77-4ce2-89f8-12b3dfee844b",
   "metadata": {},
   "outputs": [
    {
     "name": "stdout",
     "output_type": "stream",
     "text": [
      "4 fractions, with combined shape (50000, 50000)\n",
      "\u001b[33mWARNING \u001b[0m Densifying data in `adata.obsm\u001b[1m[\u001b[0m\u001b[32m'brain_area_onehot'\u001b[0m\u001b[1m]\u001b[0m`                                                      \n",
      "\u001b[33mWARNING \u001b[0m Densifying data in `adata.obsm\u001b[1m[\u001b[0m\u001b[32m'brain_area_onehot'\u001b[0m\u001b[1m]\u001b[0m`                                                      \n",
      "\u001b[33mWARNING \u001b[0m Densifying data in `adata.obsm\u001b[1m[\u001b[0m\u001b[32m'brain_area_onehot'\u001b[0m\u001b[1m]\u001b[0m`                                                      \n",
      "\u001b[33mWARNING \u001b[0m Densifying data in `adata.obsm\u001b[1m[\u001b[0m\u001b[32m'brain_area_onehot'\u001b[0m\u001b[1m]\u001b[0m`                                                      \n",
      "\u001b[33mWARNING \u001b[0m Densifying data in `adata.obsm\u001b[1m[\u001b[0m\u001b[32m'brain_area_onehot'\u001b[0m\u001b[1m]\u001b[0m`                                                      \n",
      "\u001b[33mWARNING \u001b[0m Densifying data in `adata.obsm\u001b[1m[\u001b[0m\u001b[32m'brain_area_onehot'\u001b[0m\u001b[1m]\u001b[0m`                                                      \n",
      "\u001b[33mWARNING \u001b[0m Densifying data in `adata.obsm\u001b[1m[\u001b[0m\u001b[32m'brain_area_onehot'\u001b[0m\u001b[1m]\u001b[0m`                                                      \n",
      "\u001b[33mWARNING \u001b[0m Densifying data in `adata.obsm\u001b[1m[\u001b[0m\u001b[32m'brain_area_onehot'\u001b[0m\u001b[1m]\u001b[0m`                                                      \n",
      "finished loading problems\n",
      "======================================Fraction 0 ============================================\n",
      "Performing 13 translation steps\n",
      "_____________\n",
      "■■■■■■■■■■■■\n",
      "======================================Fraction 1 ============================================\n",
      "Performing 13 translation steps\n",
      "_____________\n",
      "■■■■■■■■■■■■\n",
      "======================================Fraction 2 ============================================\n",
      "Performing 13 translation steps\n",
      "_____________\n",
      "■■■■■■■■■■■■\n",
      "======================================Fraction 3 ============================================\n",
      "Performing 13 translation steps\n",
      "_____________\n",
      "■■■■■■■■■■■■\n"
     ]
    },
    {
     "data": {
      "text/plain": [
       "(AnnData object with n_obs × n_vars = 50000 × 50\n",
       "     obs: 'patch_id', 'brain_area', 'patchsize', 'x_st', 'y_st', 'z_st', 'brain_section_label', 'section', 'test_set', 'val_set', 'train_set', 'fraction'\n",
       "     uns: 'neighbors', 'umap'\n",
       "     obsm: 'X_umap', 'brain_area_onehot', 'brain_area_similarities', 'pca_embedding', 'pca_plus_slides', 'pca_plus_slides_scaled', 'transformed'\n",
       "     obsp: 'connectivities', 'distances',\n",
       " AnnData object with n_obs × n_vars = 50000 × 1536\n",
       "     obs: 'image_id', 'patchsize', 'center_ccf', 'pixel_coord', 'distance', 'nearest_ST', 'nearest_cell_id', 'target_atlas_plate', 'distance_new', 'x', 'y', 'z', 'x_st', 'y_st', 'z_st', 'image_nr', 'brain_area', 'group', 'slice', 'in_sample', 'test_set', 'val_set', 'train_set', 'fraction'\n",
       "     obsm: 'brain_area_onehot', 'brain_area_similarities', 'uni_embedding', 'uni_pca_95', 'uni_pca_plus_coords')"
      ]
     },
     "execution_count": 18,
     "metadata": {},
     "output_type": "execute_result"
    }
   ],
   "source": [
    "switch_to_cpu()\n",
    "st_fused, histo_fused = translate(adata_src, adata_target, src_adatas, target_adatas)\n",
    "st_fused, histo_fused"
   ]
  },
  {
   "cell_type": "code",
   "execution_count": 19,
   "id": "f47cbc5b-322b-480b-b744-b3c7f06604d9",
   "metadata": {},
   "outputs": [
    {
     "name": "stdout",
     "output_type": "stream",
     "text": [
      "\u001b[33mWARNING \u001b[0m Densifying data in `adata.obsm\u001b[1m[\u001b[0m\u001b[32m'brain_area_onehot'\u001b[0m\u001b[1m]\u001b[0m`                                                      \n",
      "\u001b[33mWARNING \u001b[0m Densifying data in `adata.obsm\u001b[1m[\u001b[0m\u001b[32m'brain_area_onehot'\u001b[0m\u001b[1m]\u001b[0m`                                                      \n",
      "\u001b[33mWARNING \u001b[0m Densifying data in `adata.obsm\u001b[1m[\u001b[0m\u001b[32m'brain_area_onehot'\u001b[0m\u001b[1m]\u001b[0m`                                                      \n",
      "\u001b[33mWARNING \u001b[0m Densifying data in `adata.obsm\u001b[1m[\u001b[0m\u001b[32m'brain_area_onehot'\u001b[0m\u001b[1m]\u001b[0m`                                                      \n",
      "\u001b[33mWARNING \u001b[0m Densifying data in `adata.obsm\u001b[1m[\u001b[0m\u001b[32m'brain_area_onehot'\u001b[0m\u001b[1m]\u001b[0m`                                                      \n",
      "\u001b[33mWARNING \u001b[0m Densifying data in `adata.obsm\u001b[1m[\u001b[0m\u001b[32m'brain_area_onehot'\u001b[0m\u001b[1m]\u001b[0m`                                                      \n",
      "\u001b[33mWARNING \u001b[0m Densifying data in `adata.obsm\u001b[1m[\u001b[0m\u001b[32m'brain_area_onehot'\u001b[0m\u001b[1m]\u001b[0m`                                                      \n",
      "\u001b[33mWARNING \u001b[0m Densifying data in `adata.obsm\u001b[1m[\u001b[0m\u001b[32m'brain_area_onehot'\u001b[0m\u001b[1m]\u001b[0m`                                                      \n",
      "Fraction 0\n"
     ]
    },
    {
     "name": "stderr",
     "output_type": "stream",
     "text": [
      "100%|██████████| 12500/12500 [00:04<00:00, 2623.05it/s]\n"
     ]
    },
    {
     "name": "stdout",
     "output_type": "stream",
     "text": [
      "Fraction 1\n"
     ]
    },
    {
     "name": "stderr",
     "output_type": "stream",
     "text": [
      "100%|██████████| 12500/12500 [00:04<00:00, 2620.48it/s]\n"
     ]
    },
    {
     "name": "stdout",
     "output_type": "stream",
     "text": [
      "Fraction 2\n"
     ]
    },
    {
     "name": "stderr",
     "output_type": "stream",
     "text": [
      "100%|██████████| 12500/12500 [00:04<00:00, 2628.94it/s]\n"
     ]
    },
    {
     "name": "stdout",
     "output_type": "stream",
     "text": [
      "Fraction 3\n"
     ]
    },
    {
     "name": "stderr",
     "output_type": "stream",
     "text": [
      "100%|██████████| 12500/12500 [00:04<00:00, 2621.36it/s]\n"
     ]
    },
    {
     "data": {
      "text/plain": [
       "0.20068003899092177"
      ]
     },
     "execution_count": 19,
     "metadata": {},
     "output_type": "execute_result"
    }
   ],
   "source": [
    "coords_fused = translation_metric(src_adatas, target_adatas)\n",
    "coords_fused"
   ]
  },
  {
   "cell_type": "code",
   "execution_count": 20,
   "id": "84c615a9-76e3-4edf-aad5-4486247f2278",
   "metadata": {},
   "outputs": [
    {
     "data": {
      "text/plain": [
       "np.float32(0.11829371)"
      ]
     },
     "execution_count": 20,
     "metadata": {},
     "output_type": "execute_result"
    }
   ],
   "source": [
    "mixing_fused = silhouette_score(\n",
    "    np.vstack((st_fused.obsm[\"transformed\"], histo_fused.obsm[target_key])), \n",
    "    labels=np.concatenate((\n",
    "        np.zeros(st_fused.shape[0]).astype(bool), np.ones(histo_fused.shape[0]).astype(bool)\n",
    "    )), \n",
    "    random_state = seed\n",
    ")\n",
    "mixing_fused"
   ]
  },
  {
   "cell_type": "code",
   "execution_count": 21,
   "id": "e8069e70-6add-4a6f-bb28-eb9357a49cd1",
   "metadata": {},
   "outputs": [
    {
     "name": "stdout",
     "output_type": "stream",
     "text": [
      "Finished kmeans: (array([0, 1], dtype=int32), array([79223, 20777]))\n"
     ]
    },
    {
     "data": {
      "text/plain": [
       "0.00820545429486007"
      ]
     },
     "execution_count": 21,
     "metadata": {},
     "output_type": "execute_result"
    }
   ],
   "source": [
    "ari_fused = ARI(st_fused.obsm[\"transformed\"], histo_fused.obsm[target_key])\n",
    "ari_fused"
   ]
  },
  {
   "cell_type": "markdown",
   "id": "cb8a0acb-4cf9-4c57-bc68-389207ccc56b",
   "metadata": {},
   "source": [
    "==> The R² is higher than ever before at 20 percent... Let's check if we can increase it even further by increasing the epsilon"
   ]
  },
  {
   "cell_type": "markdown",
   "id": "2d45f6d9-e8ba-4a60-a611-6d6f1275bb47",
   "metadata": {},
   "source": [
    "## Smaller epsilon"
   ]
  },
  {
   "cell_type": "code",
   "execution_count": 8,
   "id": "473003c9-80d0-4cea-ae3b-ad0f65010e4f",
   "metadata": {},
   "outputs": [],
   "source": [
    "os.makedirs(\"/p/project1/hai_fzj_bda/koenig8/ot/mixing/fused_low_epsilon\")"
   ]
  },
  {
   "cell_type": "code",
   "execution_count": 9,
   "id": "1348bfc3-4d4a-499b-988c-f96d63beacfb",
   "metadata": {
    "collapsed": true,
    "jupyter": {
     "outputs_hidden": true
    }
   },
   "outputs": [
    {
     "name": "stdout",
     "output_type": "stream",
     "text": [
      "Source Adatas: [(12500, 50), (12500, 50), (12500, 50), (12500, 50)]\n",
      "Target Adatas: [(12500, 1536), (12500, 1536), (12500, 1536), (12500, 1536)]\n",
      "\u001b[33mWARNING \u001b[0m Densifying data in `adata.obsm\u001b[1m[\u001b[0m\u001b[32m'brain_area_onehot'\u001b[0m\u001b[1m]\u001b[0m`                                                      \n",
      "\u001b[33mWARNING \u001b[0m Densifying data in `adata.obsm\u001b[1m[\u001b[0m\u001b[32m'brain_area_onehot'\u001b[0m\u001b[1m]\u001b[0m`                                                      \n",
      "\u001b[34mINFO    \u001b[0m Solving `\u001b[1;36m1\u001b[0m` problems                                                                                      \n",
      "\u001b[34mINFO    \u001b[0m Solving problem OTProblem\u001b[1m[\u001b[0m\u001b[33mstage\u001b[0m=\u001b[32m'prepared'\u001b[0m, \u001b[33mshape\u001b[0m=\u001b[1m(\u001b[0m\u001b[1;36m12500\u001b[0m, \u001b[1;36m12500\u001b[0m\u001b[1m)\u001b[0m\u001b[1m]\u001b[0m.                                        \n",
      "\u001b[33mWARNING \u001b[0m Densifying data in `adata.obsm\u001b[1m[\u001b[0m\u001b[32m'brain_area_onehot'\u001b[0m\u001b[1m]\u001b[0m`                                                      \n",
      "\u001b[33mWARNING \u001b[0m Densifying data in `adata.obsm\u001b[1m[\u001b[0m\u001b[32m'brain_area_onehot'\u001b[0m\u001b[1m]\u001b[0m`                                                      \n",
      "\u001b[34mINFO    \u001b[0m Solving `\u001b[1;36m1\u001b[0m` problems                                                                                      \n",
      "\u001b[34mINFO    \u001b[0m Solving problem OTProblem\u001b[1m[\u001b[0m\u001b[33mstage\u001b[0m=\u001b[32m'prepared'\u001b[0m, \u001b[33mshape\u001b[0m=\u001b[1m(\u001b[0m\u001b[1;36m12500\u001b[0m, \u001b[1;36m12500\u001b[0m\u001b[1m)\u001b[0m\u001b[1m]\u001b[0m.                                        \n",
      "\u001b[33mWARNING \u001b[0m Densifying data in `adata.obsm\u001b[1m[\u001b[0m\u001b[32m'brain_area_onehot'\u001b[0m\u001b[1m]\u001b[0m`                                                      \n",
      "\u001b[33mWARNING \u001b[0m Densifying data in `adata.obsm\u001b[1m[\u001b[0m\u001b[32m'brain_area_onehot'\u001b[0m\u001b[1m]\u001b[0m`                                                      \n",
      "\u001b[34mINFO    \u001b[0m Solving `\u001b[1;36m1\u001b[0m` problems                                                                                      \n",
      "\u001b[34mINFO    \u001b[0m Solving problem OTProblem\u001b[1m[\u001b[0m\u001b[33mstage\u001b[0m=\u001b[32m'prepared'\u001b[0m, \u001b[33mshape\u001b[0m=\u001b[1m(\u001b[0m\u001b[1;36m12500\u001b[0m, \u001b[1;36m12500\u001b[0m\u001b[1m)\u001b[0m\u001b[1m]\u001b[0m.                                        \n",
      "\u001b[33mWARNING \u001b[0m Densifying data in `adata.obsm\u001b[1m[\u001b[0m\u001b[32m'brain_area_onehot'\u001b[0m\u001b[1m]\u001b[0m`                                                      \n",
      "\u001b[33mWARNING \u001b[0m Densifying data in `adata.obsm\u001b[1m[\u001b[0m\u001b[32m'brain_area_onehot'\u001b[0m\u001b[1m]\u001b[0m`                                                      \n",
      "\u001b[34mINFO    \u001b[0m Solving `\u001b[1;36m1\u001b[0m` problems                                                                                      \n",
      "\u001b[34mINFO    \u001b[0m Solving problem OTProblem\u001b[1m[\u001b[0m\u001b[33mstage\u001b[0m=\u001b[32m'prepared'\u001b[0m, \u001b[33mshape\u001b[0m=\u001b[1m(\u001b[0m\u001b[1;36m12500\u001b[0m, \u001b[1;36m12500\u001b[0m\u001b[1m)\u001b[0m\u001b[1m]\u001b[0m.                                        \n",
      "\u001b[33mWARNING \u001b[0m Densifying data in `adata.obsm\u001b[1m[\u001b[0m\u001b[32m'brain_area_onehot'\u001b[0m\u001b[1m]\u001b[0m`                                                      \n",
      "\u001b[33mWARNING \u001b[0m Densifying data in `adata.obsm\u001b[1m[\u001b[0m\u001b[32m'brain_area_onehot'\u001b[0m\u001b[1m]\u001b[0m`                                                      \n",
      "\u001b[33mWARNING \u001b[0m Densifying data in `adata.obsm\u001b[1m[\u001b[0m\u001b[32m'brain_area_onehot'\u001b[0m\u001b[1m]\u001b[0m`                                                      \n",
      "\u001b[33mWARNING \u001b[0m Densifying data in `adata.obsm\u001b[1m[\u001b[0m\u001b[32m'brain_area_onehot'\u001b[0m\u001b[1m]\u001b[0m`                                                      \n",
      "\u001b[33mWARNING \u001b[0m Densifying data in `adata.obsm\u001b[1m[\u001b[0m\u001b[32m'brain_area_onehot'\u001b[0m\u001b[1m]\u001b[0m`                                                      \n",
      "\u001b[33mWARNING \u001b[0m Densifying data in `adata.obsm\u001b[1m[\u001b[0m\u001b[32m'brain_area_onehot'\u001b[0m\u001b[1m]\u001b[0m`                                                      \n",
      "\u001b[33mWARNING \u001b[0m Densifying data in `adata.obsm\u001b[1m[\u001b[0m\u001b[32m'brain_area_onehot'\u001b[0m\u001b[1m]\u001b[0m`                                                      \n",
      "\u001b[33mWARNING \u001b[0m Densifying data in `adata.obsm\u001b[1m[\u001b[0m\u001b[32m'brain_area_onehot'\u001b[0m\u001b[1m]\u001b[0m`                                                      \n",
      "Fraction 0\n"
     ]
    },
    {
     "name": "stderr",
     "output_type": "stream",
     "text": [
      "100%|██████████| 12500/12500 [00:04<00:00, 2636.69it/s]\n"
     ]
    },
    {
     "name": "stdout",
     "output_type": "stream",
     "text": [
      "Fraction 1\n"
     ]
    },
    {
     "name": "stderr",
     "output_type": "stream",
     "text": [
      "100%|██████████| 12500/12500 [00:04<00:00, 2630.46it/s]\n"
     ]
    },
    {
     "name": "stdout",
     "output_type": "stream",
     "text": [
      "Fraction 2\n"
     ]
    },
    {
     "name": "stderr",
     "output_type": "stream",
     "text": [
      "100%|██████████| 12500/12500 [00:04<00:00, 2635.04it/s]\n"
     ]
    },
    {
     "name": "stdout",
     "output_type": "stream",
     "text": [
      "Fraction 3\n"
     ]
    },
    {
     "name": "stderr",
     "output_type": "stream",
     "text": [
      "100%|██████████| 12500/12500 [00:04<00:00, 2629.96it/s]\n"
     ]
    },
    {
     "name": "stdout",
     "output_type": "stream",
     "text": [
      "0.05 0.20066414485135167\n",
      "Source Adatas: [(12500, 50), (12500, 50), (12500, 50), (12500, 50)]\n",
      "Target Adatas: [(12500, 1536), (12500, 1536), (12500, 1536), (12500, 1536)]\n",
      "\u001b[33mWARNING \u001b[0m Densifying data in `adata.obsm\u001b[1m[\u001b[0m\u001b[32m'brain_area_onehot'\u001b[0m\u001b[1m]\u001b[0m`                                                      \n",
      "\u001b[33mWARNING \u001b[0m Densifying data in `adata.obsm\u001b[1m[\u001b[0m\u001b[32m'brain_area_onehot'\u001b[0m\u001b[1m]\u001b[0m`                                                      \n",
      "\u001b[34mINFO    \u001b[0m Solving `\u001b[1;36m1\u001b[0m` problems                                                                                      \n",
      "\u001b[34mINFO    \u001b[0m Solving problem OTProblem\u001b[1m[\u001b[0m\u001b[33mstage\u001b[0m=\u001b[32m'prepared'\u001b[0m, \u001b[33mshape\u001b[0m=\u001b[1m(\u001b[0m\u001b[1;36m12500\u001b[0m, \u001b[1;36m12500\u001b[0m\u001b[1m)\u001b[0m\u001b[1m]\u001b[0m.                                        \n",
      "\u001b[33mWARNING \u001b[0m Densifying data in `adata.obsm\u001b[1m[\u001b[0m\u001b[32m'brain_area_onehot'\u001b[0m\u001b[1m]\u001b[0m`                                                      \n",
      "\u001b[33mWARNING \u001b[0m Densifying data in `adata.obsm\u001b[1m[\u001b[0m\u001b[32m'brain_area_onehot'\u001b[0m\u001b[1m]\u001b[0m`                                                      \n",
      "\u001b[34mINFO    \u001b[0m Solving `\u001b[1;36m1\u001b[0m` problems                                                                                      \n",
      "\u001b[34mINFO    \u001b[0m Solving problem OTProblem\u001b[1m[\u001b[0m\u001b[33mstage\u001b[0m=\u001b[32m'prepared'\u001b[0m, \u001b[33mshape\u001b[0m=\u001b[1m(\u001b[0m\u001b[1;36m12500\u001b[0m, \u001b[1;36m12500\u001b[0m\u001b[1m)\u001b[0m\u001b[1m]\u001b[0m.                                        \n",
      "\u001b[33mWARNING \u001b[0m Densifying data in `adata.obsm\u001b[1m[\u001b[0m\u001b[32m'brain_area_onehot'\u001b[0m\u001b[1m]\u001b[0m`                                                      \n",
      "\u001b[33mWARNING \u001b[0m Densifying data in `adata.obsm\u001b[1m[\u001b[0m\u001b[32m'brain_area_onehot'\u001b[0m\u001b[1m]\u001b[0m`                                                      \n",
      "\u001b[34mINFO    \u001b[0m Solving `\u001b[1;36m1\u001b[0m` problems                                                                                      \n",
      "\u001b[34mINFO    \u001b[0m Solving problem OTProblem\u001b[1m[\u001b[0m\u001b[33mstage\u001b[0m=\u001b[32m'prepared'\u001b[0m, \u001b[33mshape\u001b[0m=\u001b[1m(\u001b[0m\u001b[1;36m12500\u001b[0m, \u001b[1;36m12500\u001b[0m\u001b[1m)\u001b[0m\u001b[1m]\u001b[0m.                                        \n",
      "\u001b[33mWARNING \u001b[0m Densifying data in `adata.obsm\u001b[1m[\u001b[0m\u001b[32m'brain_area_onehot'\u001b[0m\u001b[1m]\u001b[0m`                                                      \n",
      "\u001b[33mWARNING \u001b[0m Densifying data in `adata.obsm\u001b[1m[\u001b[0m\u001b[32m'brain_area_onehot'\u001b[0m\u001b[1m]\u001b[0m`                                                      \n",
      "\u001b[34mINFO    \u001b[0m Solving `\u001b[1;36m1\u001b[0m` problems                                                                                      \n",
      "\u001b[34mINFO    \u001b[0m Solving problem OTProblem\u001b[1m[\u001b[0m\u001b[33mstage\u001b[0m=\u001b[32m'prepared'\u001b[0m, \u001b[33mshape\u001b[0m=\u001b[1m(\u001b[0m\u001b[1;36m12500\u001b[0m, \u001b[1;36m12500\u001b[0m\u001b[1m)\u001b[0m\u001b[1m]\u001b[0m.                                        \n",
      "\u001b[33mWARNING \u001b[0m Densifying data in `adata.obsm\u001b[1m[\u001b[0m\u001b[32m'brain_area_onehot'\u001b[0m\u001b[1m]\u001b[0m`                                                      \n",
      "\u001b[33mWARNING \u001b[0m Densifying data in `adata.obsm\u001b[1m[\u001b[0m\u001b[32m'brain_area_onehot'\u001b[0m\u001b[1m]\u001b[0m`                                                      \n",
      "\u001b[33mWARNING \u001b[0m Densifying data in `adata.obsm\u001b[1m[\u001b[0m\u001b[32m'brain_area_onehot'\u001b[0m\u001b[1m]\u001b[0m`                                                      \n",
      "\u001b[33mWARNING \u001b[0m Densifying data in `adata.obsm\u001b[1m[\u001b[0m\u001b[32m'brain_area_onehot'\u001b[0m\u001b[1m]\u001b[0m`                                                      \n",
      "\u001b[33mWARNING \u001b[0m Densifying data in `adata.obsm\u001b[1m[\u001b[0m\u001b[32m'brain_area_onehot'\u001b[0m\u001b[1m]\u001b[0m`                                                      \n",
      "\u001b[33mWARNING \u001b[0m Densifying data in `adata.obsm\u001b[1m[\u001b[0m\u001b[32m'brain_area_onehot'\u001b[0m\u001b[1m]\u001b[0m`                                                      \n",
      "\u001b[33mWARNING \u001b[0m Densifying data in `adata.obsm\u001b[1m[\u001b[0m\u001b[32m'brain_area_onehot'\u001b[0m\u001b[1m]\u001b[0m`                                                      \n",
      "\u001b[33mWARNING \u001b[0m Densifying data in `adata.obsm\u001b[1m[\u001b[0m\u001b[32m'brain_area_onehot'\u001b[0m\u001b[1m]\u001b[0m`                                                      \n",
      "Fraction 0\n"
     ]
    },
    {
     "name": "stderr",
     "output_type": "stream",
     "text": [
      "100%|██████████| 12500/12500 [00:04<00:00, 2639.92it/s]\n"
     ]
    },
    {
     "name": "stdout",
     "output_type": "stream",
     "text": [
      "Fraction 1\n"
     ]
    },
    {
     "name": "stderr",
     "output_type": "stream",
     "text": [
      "100%|██████████| 12500/12500 [00:04<00:00, 2645.84it/s]\n"
     ]
    },
    {
     "name": "stdout",
     "output_type": "stream",
     "text": [
      "Fraction 2\n"
     ]
    },
    {
     "name": "stderr",
     "output_type": "stream",
     "text": [
      "100%|██████████| 12500/12500 [00:04<00:00, 2643.61it/s]\n"
     ]
    },
    {
     "name": "stdout",
     "output_type": "stream",
     "text": [
      "Fraction 3\n"
     ]
    },
    {
     "name": "stderr",
     "output_type": "stream",
     "text": [
      "100%|██████████| 12500/12500 [00:04<00:00, 2618.36it/s]\n"
     ]
    },
    {
     "name": "stdout",
     "output_type": "stream",
     "text": [
      "0.1 0.205859984270221\n",
      "Source Adatas: [(12500, 50), (12500, 50), (12500, 50), (12500, 50)]\n",
      "Target Adatas: [(12500, 1536), (12500, 1536), (12500, 1536), (12500, 1536)]\n",
      "\u001b[33mWARNING \u001b[0m Densifying data in `adata.obsm\u001b[1m[\u001b[0m\u001b[32m'brain_area_onehot'\u001b[0m\u001b[1m]\u001b[0m`                                                      \n",
      "\u001b[33mWARNING \u001b[0m Densifying data in `adata.obsm\u001b[1m[\u001b[0m\u001b[32m'brain_area_onehot'\u001b[0m\u001b[1m]\u001b[0m`                                                      \n",
      "\u001b[34mINFO    \u001b[0m Solving `\u001b[1;36m1\u001b[0m` problems                                                                                      \n",
      "\u001b[34mINFO    \u001b[0m Solving problem OTProblem\u001b[1m[\u001b[0m\u001b[33mstage\u001b[0m=\u001b[32m'prepared'\u001b[0m, \u001b[33mshape\u001b[0m=\u001b[1m(\u001b[0m\u001b[1;36m12500\u001b[0m, \u001b[1;36m12500\u001b[0m\u001b[1m)\u001b[0m\u001b[1m]\u001b[0m.                                        \n",
      "\u001b[33mWARNING \u001b[0m Densifying data in `adata.obsm\u001b[1m[\u001b[0m\u001b[32m'brain_area_onehot'\u001b[0m\u001b[1m]\u001b[0m`                                                      \n",
      "\u001b[33mWARNING \u001b[0m Densifying data in `adata.obsm\u001b[1m[\u001b[0m\u001b[32m'brain_area_onehot'\u001b[0m\u001b[1m]\u001b[0m`                                                      \n",
      "\u001b[34mINFO    \u001b[0m Solving `\u001b[1;36m1\u001b[0m` problems                                                                                      \n",
      "\u001b[34mINFO    \u001b[0m Solving problem OTProblem\u001b[1m[\u001b[0m\u001b[33mstage\u001b[0m=\u001b[32m'prepared'\u001b[0m, \u001b[33mshape\u001b[0m=\u001b[1m(\u001b[0m\u001b[1;36m12500\u001b[0m, \u001b[1;36m12500\u001b[0m\u001b[1m)\u001b[0m\u001b[1m]\u001b[0m.                                        \n",
      "\u001b[33mWARNING \u001b[0m Densifying data in `adata.obsm\u001b[1m[\u001b[0m\u001b[32m'brain_area_onehot'\u001b[0m\u001b[1m]\u001b[0m`                                                      \n",
      "\u001b[33mWARNING \u001b[0m Densifying data in `adata.obsm\u001b[1m[\u001b[0m\u001b[32m'brain_area_onehot'\u001b[0m\u001b[1m]\u001b[0m`                                                      \n",
      "\u001b[34mINFO    \u001b[0m Solving `\u001b[1;36m1\u001b[0m` problems                                                                                      \n",
      "\u001b[34mINFO    \u001b[0m Solving problem OTProblem\u001b[1m[\u001b[0m\u001b[33mstage\u001b[0m=\u001b[32m'prepared'\u001b[0m, \u001b[33mshape\u001b[0m=\u001b[1m(\u001b[0m\u001b[1;36m12500\u001b[0m, \u001b[1;36m12500\u001b[0m\u001b[1m)\u001b[0m\u001b[1m]\u001b[0m.                                        \n",
      "\u001b[33mWARNING \u001b[0m Densifying data in `adata.obsm\u001b[1m[\u001b[0m\u001b[32m'brain_area_onehot'\u001b[0m\u001b[1m]\u001b[0m`                                                      \n",
      "\u001b[33mWARNING \u001b[0m Densifying data in `adata.obsm\u001b[1m[\u001b[0m\u001b[32m'brain_area_onehot'\u001b[0m\u001b[1m]\u001b[0m`                                                      \n",
      "\u001b[34mINFO    \u001b[0m Solving `\u001b[1;36m1\u001b[0m` problems                                                                                      \n",
      "\u001b[34mINFO    \u001b[0m Solving problem OTProblem\u001b[1m[\u001b[0m\u001b[33mstage\u001b[0m=\u001b[32m'prepared'\u001b[0m, \u001b[33mshape\u001b[0m=\u001b[1m(\u001b[0m\u001b[1;36m12500\u001b[0m, \u001b[1;36m12500\u001b[0m\u001b[1m)\u001b[0m\u001b[1m]\u001b[0m.                                        \n",
      "\u001b[33mWARNING \u001b[0m Densifying data in `adata.obsm\u001b[1m[\u001b[0m\u001b[32m'brain_area_onehot'\u001b[0m\u001b[1m]\u001b[0m`                                                      \n",
      "\u001b[33mWARNING \u001b[0m Densifying data in `adata.obsm\u001b[1m[\u001b[0m\u001b[32m'brain_area_onehot'\u001b[0m\u001b[1m]\u001b[0m`                                                      \n",
      "\u001b[33mWARNING \u001b[0m Densifying data in `adata.obsm\u001b[1m[\u001b[0m\u001b[32m'brain_area_onehot'\u001b[0m\u001b[1m]\u001b[0m`                                                      \n",
      "\u001b[33mWARNING \u001b[0m Densifying data in `adata.obsm\u001b[1m[\u001b[0m\u001b[32m'brain_area_onehot'\u001b[0m\u001b[1m]\u001b[0m`                                                      \n",
      "\u001b[33mWARNING \u001b[0m Densifying data in `adata.obsm\u001b[1m[\u001b[0m\u001b[32m'brain_area_onehot'\u001b[0m\u001b[1m]\u001b[0m`                                                      \n",
      "\u001b[33mWARNING \u001b[0m Densifying data in `adata.obsm\u001b[1m[\u001b[0m\u001b[32m'brain_area_onehot'\u001b[0m\u001b[1m]\u001b[0m`                                                      \n",
      "\u001b[33mWARNING \u001b[0m Densifying data in `adata.obsm\u001b[1m[\u001b[0m\u001b[32m'brain_area_onehot'\u001b[0m\u001b[1m]\u001b[0m`                                                      \n",
      "\u001b[33mWARNING \u001b[0m Densifying data in `adata.obsm\u001b[1m[\u001b[0m\u001b[32m'brain_area_onehot'\u001b[0m\u001b[1m]\u001b[0m`                                                      \n",
      "Fraction 0\n"
     ]
    },
    {
     "name": "stderr",
     "output_type": "stream",
     "text": [
      "100%|██████████| 12500/12500 [00:04<00:00, 2630.74it/s]\n"
     ]
    },
    {
     "name": "stdout",
     "output_type": "stream",
     "text": [
      "Fraction 1\n"
     ]
    },
    {
     "name": "stderr",
     "output_type": "stream",
     "text": [
      "100%|██████████| 12500/12500 [00:04<00:00, 2643.23it/s]\n"
     ]
    },
    {
     "name": "stdout",
     "output_type": "stream",
     "text": [
      "Fraction 2\n"
     ]
    },
    {
     "name": "stderr",
     "output_type": "stream",
     "text": [
      "100%|██████████| 12500/12500 [00:04<00:00, 2643.70it/s]\n"
     ]
    },
    {
     "name": "stdout",
     "output_type": "stream",
     "text": [
      "Fraction 3\n"
     ]
    },
    {
     "name": "stderr",
     "output_type": "stream",
     "text": [
      "100%|██████████| 12500/12500 [00:04<00:00, 2644.19it/s]\n"
     ]
    },
    {
     "name": "stdout",
     "output_type": "stream",
     "text": [
      "0.15000000000000002 0.20072766991020385\n",
      "Source Adatas: [(12500, 50), (12500, 50), (12500, 50), (12500, 50)]\n",
      "Target Adatas: [(12500, 1536), (12500, 1536), (12500, 1536), (12500, 1536)]\n",
      "\u001b[33mWARNING \u001b[0m Densifying data in `adata.obsm\u001b[1m[\u001b[0m\u001b[32m'brain_area_onehot'\u001b[0m\u001b[1m]\u001b[0m`                                                      \n",
      "\u001b[33mWARNING \u001b[0m Densifying data in `adata.obsm\u001b[1m[\u001b[0m\u001b[32m'brain_area_onehot'\u001b[0m\u001b[1m]\u001b[0m`                                                      \n",
      "\u001b[34mINFO    \u001b[0m Solving `\u001b[1;36m1\u001b[0m` problems                                                                                      \n",
      "\u001b[34mINFO    \u001b[0m Solving problem OTProblem\u001b[1m[\u001b[0m\u001b[33mstage\u001b[0m=\u001b[32m'prepared'\u001b[0m, \u001b[33mshape\u001b[0m=\u001b[1m(\u001b[0m\u001b[1;36m12500\u001b[0m, \u001b[1;36m12500\u001b[0m\u001b[1m)\u001b[0m\u001b[1m]\u001b[0m.                                        \n",
      "\u001b[33mWARNING \u001b[0m Densifying data in `adata.obsm\u001b[1m[\u001b[0m\u001b[32m'brain_area_onehot'\u001b[0m\u001b[1m]\u001b[0m`                                                      \n",
      "\u001b[33mWARNING \u001b[0m Densifying data in `adata.obsm\u001b[1m[\u001b[0m\u001b[32m'brain_area_onehot'\u001b[0m\u001b[1m]\u001b[0m`                                                      \n",
      "\u001b[34mINFO    \u001b[0m Solving `\u001b[1;36m1\u001b[0m` problems                                                                                      \n",
      "\u001b[34mINFO    \u001b[0m Solving problem OTProblem\u001b[1m[\u001b[0m\u001b[33mstage\u001b[0m=\u001b[32m'prepared'\u001b[0m, \u001b[33mshape\u001b[0m=\u001b[1m(\u001b[0m\u001b[1;36m12500\u001b[0m, \u001b[1;36m12500\u001b[0m\u001b[1m)\u001b[0m\u001b[1m]\u001b[0m.                                        \n",
      "\u001b[33mWARNING \u001b[0m Densifying data in `adata.obsm\u001b[1m[\u001b[0m\u001b[32m'brain_area_onehot'\u001b[0m\u001b[1m]\u001b[0m`                                                      \n",
      "\u001b[33mWARNING \u001b[0m Densifying data in `adata.obsm\u001b[1m[\u001b[0m\u001b[32m'brain_area_onehot'\u001b[0m\u001b[1m]\u001b[0m`                                                      \n",
      "\u001b[34mINFO    \u001b[0m Solving `\u001b[1;36m1\u001b[0m` problems                                                                                      \n",
      "\u001b[34mINFO    \u001b[0m Solving problem OTProblem\u001b[1m[\u001b[0m\u001b[33mstage\u001b[0m=\u001b[32m'prepared'\u001b[0m, \u001b[33mshape\u001b[0m=\u001b[1m(\u001b[0m\u001b[1;36m12500\u001b[0m, \u001b[1;36m12500\u001b[0m\u001b[1m)\u001b[0m\u001b[1m]\u001b[0m.                                        \n",
      "\u001b[33mWARNING \u001b[0m Densifying data in `adata.obsm\u001b[1m[\u001b[0m\u001b[32m'brain_area_onehot'\u001b[0m\u001b[1m]\u001b[0m`                                                      \n",
      "\u001b[33mWARNING \u001b[0m Densifying data in `adata.obsm\u001b[1m[\u001b[0m\u001b[32m'brain_area_onehot'\u001b[0m\u001b[1m]\u001b[0m`                                                      \n",
      "\u001b[34mINFO    \u001b[0m Solving `\u001b[1;36m1\u001b[0m` problems                                                                                      \n",
      "\u001b[34mINFO    \u001b[0m Solving problem OTProblem\u001b[1m[\u001b[0m\u001b[33mstage\u001b[0m=\u001b[32m'prepared'\u001b[0m, \u001b[33mshape\u001b[0m=\u001b[1m(\u001b[0m\u001b[1;36m12500\u001b[0m, \u001b[1;36m12500\u001b[0m\u001b[1m)\u001b[0m\u001b[1m]\u001b[0m.                                        \n",
      "\u001b[33mWARNING \u001b[0m Densifying data in `adata.obsm\u001b[1m[\u001b[0m\u001b[32m'brain_area_onehot'\u001b[0m\u001b[1m]\u001b[0m`                                                      \n",
      "\u001b[33mWARNING \u001b[0m Densifying data in `adata.obsm\u001b[1m[\u001b[0m\u001b[32m'brain_area_onehot'\u001b[0m\u001b[1m]\u001b[0m`                                                      \n",
      "\u001b[33mWARNING \u001b[0m Densifying data in `adata.obsm\u001b[1m[\u001b[0m\u001b[32m'brain_area_onehot'\u001b[0m\u001b[1m]\u001b[0m`                                                      \n",
      "\u001b[33mWARNING \u001b[0m Densifying data in `adata.obsm\u001b[1m[\u001b[0m\u001b[32m'brain_area_onehot'\u001b[0m\u001b[1m]\u001b[0m`                                                      \n",
      "\u001b[33mWARNING \u001b[0m Densifying data in `adata.obsm\u001b[1m[\u001b[0m\u001b[32m'brain_area_onehot'\u001b[0m\u001b[1m]\u001b[0m`                                                      \n",
      "\u001b[33mWARNING \u001b[0m Densifying data in `adata.obsm\u001b[1m[\u001b[0m\u001b[32m'brain_area_onehot'\u001b[0m\u001b[1m]\u001b[0m`                                                      \n",
      "\u001b[33mWARNING \u001b[0m Densifying data in `adata.obsm\u001b[1m[\u001b[0m\u001b[32m'brain_area_onehot'\u001b[0m\u001b[1m]\u001b[0m`                                                      \n",
      "\u001b[33mWARNING \u001b[0m Densifying data in `adata.obsm\u001b[1m[\u001b[0m\u001b[32m'brain_area_onehot'\u001b[0m\u001b[1m]\u001b[0m`                                                      \n",
      "Fraction 0\n"
     ]
    },
    {
     "name": "stderr",
     "output_type": "stream",
     "text": [
      "100%|██████████| 12500/12500 [00:04<00:00, 2635.78it/s]\n"
     ]
    },
    {
     "name": "stdout",
     "output_type": "stream",
     "text": [
      "Fraction 1\n"
     ]
    },
    {
     "name": "stderr",
     "output_type": "stream",
     "text": [
      "100%|██████████| 12500/12500 [00:04<00:00, 2632.09it/s]\n"
     ]
    },
    {
     "name": "stdout",
     "output_type": "stream",
     "text": [
      "Fraction 2\n"
     ]
    },
    {
     "name": "stderr",
     "output_type": "stream",
     "text": [
      "100%|██████████| 12500/12500 [00:04<00:00, 2638.07it/s]\n"
     ]
    },
    {
     "name": "stdout",
     "output_type": "stream",
     "text": [
      "Fraction 3\n"
     ]
    },
    {
     "name": "stderr",
     "output_type": "stream",
     "text": [
      "100%|██████████| 12500/12500 [00:04<00:00, 2610.94it/s]\n"
     ]
    },
    {
     "name": "stdout",
     "output_type": "stream",
     "text": [
      "0.2 0.19673434690770628\n",
      "Source Adatas: [(12500, 50), (12500, 50), (12500, 50), (12500, 50)]\n",
      "Target Adatas: [(12500, 1536), (12500, 1536), (12500, 1536), (12500, 1536)]\n",
      "\u001b[33mWARNING \u001b[0m Densifying data in `adata.obsm\u001b[1m[\u001b[0m\u001b[32m'brain_area_onehot'\u001b[0m\u001b[1m]\u001b[0m`                                                      \n",
      "\u001b[33mWARNING \u001b[0m Densifying data in `adata.obsm\u001b[1m[\u001b[0m\u001b[32m'brain_area_onehot'\u001b[0m\u001b[1m]\u001b[0m`                                                      \n",
      "\u001b[34mINFO    \u001b[0m Solving `\u001b[1;36m1\u001b[0m` problems                                                                                      \n",
      "\u001b[34mINFO    \u001b[0m Solving problem OTProblem\u001b[1m[\u001b[0m\u001b[33mstage\u001b[0m=\u001b[32m'prepared'\u001b[0m, \u001b[33mshape\u001b[0m=\u001b[1m(\u001b[0m\u001b[1;36m12500\u001b[0m, \u001b[1;36m12500\u001b[0m\u001b[1m)\u001b[0m\u001b[1m]\u001b[0m.                                        \n",
      "\u001b[33mWARNING \u001b[0m Densifying data in `adata.obsm\u001b[1m[\u001b[0m\u001b[32m'brain_area_onehot'\u001b[0m\u001b[1m]\u001b[0m`                                                      \n",
      "\u001b[33mWARNING \u001b[0m Densifying data in `adata.obsm\u001b[1m[\u001b[0m\u001b[32m'brain_area_onehot'\u001b[0m\u001b[1m]\u001b[0m`                                                      \n",
      "\u001b[34mINFO    \u001b[0m Solving `\u001b[1;36m1\u001b[0m` problems                                                                                      \n",
      "\u001b[34mINFO    \u001b[0m Solving problem OTProblem\u001b[1m[\u001b[0m\u001b[33mstage\u001b[0m=\u001b[32m'prepared'\u001b[0m, \u001b[33mshape\u001b[0m=\u001b[1m(\u001b[0m\u001b[1;36m12500\u001b[0m, \u001b[1;36m12500\u001b[0m\u001b[1m)\u001b[0m\u001b[1m]\u001b[0m.                                        \n",
      "\u001b[33mWARNING \u001b[0m Densifying data in `adata.obsm\u001b[1m[\u001b[0m\u001b[32m'brain_area_onehot'\u001b[0m\u001b[1m]\u001b[0m`                                                      \n",
      "\u001b[33mWARNING \u001b[0m Densifying data in `adata.obsm\u001b[1m[\u001b[0m\u001b[32m'brain_area_onehot'\u001b[0m\u001b[1m]\u001b[0m`                                                      \n",
      "\u001b[34mINFO    \u001b[0m Solving `\u001b[1;36m1\u001b[0m` problems                                                                                      \n",
      "\u001b[34mINFO    \u001b[0m Solving problem OTProblem\u001b[1m[\u001b[0m\u001b[33mstage\u001b[0m=\u001b[32m'prepared'\u001b[0m, \u001b[33mshape\u001b[0m=\u001b[1m(\u001b[0m\u001b[1;36m12500\u001b[0m, \u001b[1;36m12500\u001b[0m\u001b[1m)\u001b[0m\u001b[1m]\u001b[0m.                                        \n",
      "\u001b[33mWARNING \u001b[0m Densifying data in `adata.obsm\u001b[1m[\u001b[0m\u001b[32m'brain_area_onehot'\u001b[0m\u001b[1m]\u001b[0m`                                                      \n",
      "\u001b[33mWARNING \u001b[0m Densifying data in `adata.obsm\u001b[1m[\u001b[0m\u001b[32m'brain_area_onehot'\u001b[0m\u001b[1m]\u001b[0m`                                                      \n",
      "\u001b[34mINFO    \u001b[0m Solving `\u001b[1;36m1\u001b[0m` problems                                                                                      \n",
      "\u001b[34mINFO    \u001b[0m Solving problem OTProblem\u001b[1m[\u001b[0m\u001b[33mstage\u001b[0m=\u001b[32m'prepared'\u001b[0m, \u001b[33mshape\u001b[0m=\u001b[1m(\u001b[0m\u001b[1;36m12500\u001b[0m, \u001b[1;36m12500\u001b[0m\u001b[1m)\u001b[0m\u001b[1m]\u001b[0m.                                        \n",
      "\u001b[33mWARNING \u001b[0m Densifying data in `adata.obsm\u001b[1m[\u001b[0m\u001b[32m'brain_area_onehot'\u001b[0m\u001b[1m]\u001b[0m`                                                      \n",
      "\u001b[33mWARNING \u001b[0m Densifying data in `adata.obsm\u001b[1m[\u001b[0m\u001b[32m'brain_area_onehot'\u001b[0m\u001b[1m]\u001b[0m`                                                      \n",
      "\u001b[33mWARNING \u001b[0m Densifying data in `adata.obsm\u001b[1m[\u001b[0m\u001b[32m'brain_area_onehot'\u001b[0m\u001b[1m]\u001b[0m`                                                      \n",
      "\u001b[33mWARNING \u001b[0m Densifying data in `adata.obsm\u001b[1m[\u001b[0m\u001b[32m'brain_area_onehot'\u001b[0m\u001b[1m]\u001b[0m`                                                      \n",
      "\u001b[33mWARNING \u001b[0m Densifying data in `adata.obsm\u001b[1m[\u001b[0m\u001b[32m'brain_area_onehot'\u001b[0m\u001b[1m]\u001b[0m`                                                      \n",
      "\u001b[33mWARNING \u001b[0m Densifying data in `adata.obsm\u001b[1m[\u001b[0m\u001b[32m'brain_area_onehot'\u001b[0m\u001b[1m]\u001b[0m`                                                      \n",
      "\u001b[33mWARNING \u001b[0m Densifying data in `adata.obsm\u001b[1m[\u001b[0m\u001b[32m'brain_area_onehot'\u001b[0m\u001b[1m]\u001b[0m`                                                      \n",
      "\u001b[33mWARNING \u001b[0m Densifying data in `adata.obsm\u001b[1m[\u001b[0m\u001b[32m'brain_area_onehot'\u001b[0m\u001b[1m]\u001b[0m`                                                      \n",
      "Fraction 0\n"
     ]
    },
    {
     "name": "stderr",
     "output_type": "stream",
     "text": [
      "100%|██████████| 12500/12500 [00:04<00:00, 2657.52it/s]\n"
     ]
    },
    {
     "name": "stdout",
     "output_type": "stream",
     "text": [
      "Fraction 1\n"
     ]
    },
    {
     "name": "stderr",
     "output_type": "stream",
     "text": [
      "100%|██████████| 12500/12500 [00:04<00:00, 2657.79it/s]\n"
     ]
    },
    {
     "name": "stdout",
     "output_type": "stream",
     "text": [
      "Fraction 2\n"
     ]
    },
    {
     "name": "stderr",
     "output_type": "stream",
     "text": [
      "100%|██████████| 12500/12500 [00:04<00:00, 2654.22it/s]\n"
     ]
    },
    {
     "name": "stdout",
     "output_type": "stream",
     "text": [
      "Fraction 3\n"
     ]
    },
    {
     "name": "stderr",
     "output_type": "stream",
     "text": [
      "100%|██████████| 12500/12500 [00:04<00:00, 2657.08it/s]\n"
     ]
    },
    {
     "name": "stdout",
     "output_type": "stream",
     "text": [
      "0.25 0.1940585134215287\n",
      "Source Adatas: [(12500, 50), (12500, 50), (12500, 50), (12500, 50)]\n",
      "Target Adatas: [(12500, 1536), (12500, 1536), (12500, 1536), (12500, 1536)]\n",
      "\u001b[33mWARNING \u001b[0m Densifying data in `adata.obsm\u001b[1m[\u001b[0m\u001b[32m'brain_area_onehot'\u001b[0m\u001b[1m]\u001b[0m`                                                      \n",
      "\u001b[33mWARNING \u001b[0m Densifying data in `adata.obsm\u001b[1m[\u001b[0m\u001b[32m'brain_area_onehot'\u001b[0m\u001b[1m]\u001b[0m`                                                      \n",
      "\u001b[34mINFO    \u001b[0m Solving `\u001b[1;36m1\u001b[0m` problems                                                                                      \n",
      "\u001b[34mINFO    \u001b[0m Solving problem OTProblem\u001b[1m[\u001b[0m\u001b[33mstage\u001b[0m=\u001b[32m'prepared'\u001b[0m, \u001b[33mshape\u001b[0m=\u001b[1m(\u001b[0m\u001b[1;36m12500\u001b[0m, \u001b[1;36m12500\u001b[0m\u001b[1m)\u001b[0m\u001b[1m]\u001b[0m.                                        \n",
      "\u001b[33mWARNING \u001b[0m Densifying data in `adata.obsm\u001b[1m[\u001b[0m\u001b[32m'brain_area_onehot'\u001b[0m\u001b[1m]\u001b[0m`                                                      \n",
      "\u001b[33mWARNING \u001b[0m Densifying data in `adata.obsm\u001b[1m[\u001b[0m\u001b[32m'brain_area_onehot'\u001b[0m\u001b[1m]\u001b[0m`                                                      \n",
      "\u001b[34mINFO    \u001b[0m Solving `\u001b[1;36m1\u001b[0m` problems                                                                                      \n",
      "\u001b[34mINFO    \u001b[0m Solving problem OTProblem\u001b[1m[\u001b[0m\u001b[33mstage\u001b[0m=\u001b[32m'prepared'\u001b[0m, \u001b[33mshape\u001b[0m=\u001b[1m(\u001b[0m\u001b[1;36m12500\u001b[0m, \u001b[1;36m12500\u001b[0m\u001b[1m)\u001b[0m\u001b[1m]\u001b[0m.                                        \n",
      "\u001b[33mWARNING \u001b[0m Densifying data in `adata.obsm\u001b[1m[\u001b[0m\u001b[32m'brain_area_onehot'\u001b[0m\u001b[1m]\u001b[0m`                                                      \n",
      "\u001b[33mWARNING \u001b[0m Densifying data in `adata.obsm\u001b[1m[\u001b[0m\u001b[32m'brain_area_onehot'\u001b[0m\u001b[1m]\u001b[0m`                                                      \n",
      "\u001b[34mINFO    \u001b[0m Solving `\u001b[1;36m1\u001b[0m` problems                                                                                      \n",
      "\u001b[34mINFO    \u001b[0m Solving problem OTProblem\u001b[1m[\u001b[0m\u001b[33mstage\u001b[0m=\u001b[32m'prepared'\u001b[0m, \u001b[33mshape\u001b[0m=\u001b[1m(\u001b[0m\u001b[1;36m12500\u001b[0m, \u001b[1;36m12500\u001b[0m\u001b[1m)\u001b[0m\u001b[1m]\u001b[0m.                                        \n",
      "\u001b[33mWARNING \u001b[0m Densifying data in `adata.obsm\u001b[1m[\u001b[0m\u001b[32m'brain_area_onehot'\u001b[0m\u001b[1m]\u001b[0m`                                                      \n",
      "\u001b[33mWARNING \u001b[0m Densifying data in `adata.obsm\u001b[1m[\u001b[0m\u001b[32m'brain_area_onehot'\u001b[0m\u001b[1m]\u001b[0m`                                                      \n",
      "\u001b[34mINFO    \u001b[0m Solving `\u001b[1;36m1\u001b[0m` problems                                                                                      \n",
      "\u001b[34mINFO    \u001b[0m Solving problem OTProblem\u001b[1m[\u001b[0m\u001b[33mstage\u001b[0m=\u001b[32m'prepared'\u001b[0m, \u001b[33mshape\u001b[0m=\u001b[1m(\u001b[0m\u001b[1;36m12500\u001b[0m, \u001b[1;36m12500\u001b[0m\u001b[1m)\u001b[0m\u001b[1m]\u001b[0m.                                        \n",
      "\u001b[33mWARNING \u001b[0m Densifying data in `adata.obsm\u001b[1m[\u001b[0m\u001b[32m'brain_area_onehot'\u001b[0m\u001b[1m]\u001b[0m`                                                      \n",
      "\u001b[33mWARNING \u001b[0m Densifying data in `adata.obsm\u001b[1m[\u001b[0m\u001b[32m'brain_area_onehot'\u001b[0m\u001b[1m]\u001b[0m`                                                      \n",
      "\u001b[33mWARNING \u001b[0m Densifying data in `adata.obsm\u001b[1m[\u001b[0m\u001b[32m'brain_area_onehot'\u001b[0m\u001b[1m]\u001b[0m`                                                      \n",
      "\u001b[33mWARNING \u001b[0m Densifying data in `adata.obsm\u001b[1m[\u001b[0m\u001b[32m'brain_area_onehot'\u001b[0m\u001b[1m]\u001b[0m`                                                      \n",
      "\u001b[33mWARNING \u001b[0m Densifying data in `adata.obsm\u001b[1m[\u001b[0m\u001b[32m'brain_area_onehot'\u001b[0m\u001b[1m]\u001b[0m`                                                      \n",
      "\u001b[33mWARNING \u001b[0m Densifying data in `adata.obsm\u001b[1m[\u001b[0m\u001b[32m'brain_area_onehot'\u001b[0m\u001b[1m]\u001b[0m`                                                      \n",
      "\u001b[33mWARNING \u001b[0m Densifying data in `adata.obsm\u001b[1m[\u001b[0m\u001b[32m'brain_area_onehot'\u001b[0m\u001b[1m]\u001b[0m`                                                      \n",
      "\u001b[33mWARNING \u001b[0m Densifying data in `adata.obsm\u001b[1m[\u001b[0m\u001b[32m'brain_area_onehot'\u001b[0m\u001b[1m]\u001b[0m`                                                      \n",
      "Fraction 0\n"
     ]
    },
    {
     "name": "stderr",
     "output_type": "stream",
     "text": [
      "100%|██████████| 12500/12500 [00:04<00:00, 2649.15it/s]\n"
     ]
    },
    {
     "name": "stdout",
     "output_type": "stream",
     "text": [
      "Fraction 1\n"
     ]
    },
    {
     "name": "stderr",
     "output_type": "stream",
     "text": [
      "100%|██████████| 12500/12500 [00:04<00:00, 2642.21it/s]\n"
     ]
    },
    {
     "name": "stdout",
     "output_type": "stream",
     "text": [
      "Fraction 2\n"
     ]
    },
    {
     "name": "stderr",
     "output_type": "stream",
     "text": [
      "100%|██████████| 12500/12500 [00:04<00:00, 2641.26it/s]\n"
     ]
    },
    {
     "name": "stdout",
     "output_type": "stream",
     "text": [
      "Fraction 3\n"
     ]
    },
    {
     "name": "stderr",
     "output_type": "stream",
     "text": [
      "100%|██████████| 12500/12500 [00:04<00:00, 2647.46it/s]\n"
     ]
    },
    {
     "name": "stdout",
     "output_type": "stream",
     "text": [
      "0.3 0.1919899127889192\n",
      "Source Adatas: [(12500, 50), (12500, 50), (12500, 50), (12500, 50)]\n",
      "Target Adatas: [(12500, 1536), (12500, 1536), (12500, 1536), (12500, 1536)]\n",
      "\u001b[33mWARNING \u001b[0m Densifying data in `adata.obsm\u001b[1m[\u001b[0m\u001b[32m'brain_area_onehot'\u001b[0m\u001b[1m]\u001b[0m`                                                      \n",
      "\u001b[33mWARNING \u001b[0m Densifying data in `adata.obsm\u001b[1m[\u001b[0m\u001b[32m'brain_area_onehot'\u001b[0m\u001b[1m]\u001b[0m`                                                      \n",
      "\u001b[34mINFO    \u001b[0m Solving `\u001b[1;36m1\u001b[0m` problems                                                                                      \n",
      "\u001b[34mINFO    \u001b[0m Solving problem OTProblem\u001b[1m[\u001b[0m\u001b[33mstage\u001b[0m=\u001b[32m'prepared'\u001b[0m, \u001b[33mshape\u001b[0m=\u001b[1m(\u001b[0m\u001b[1;36m12500\u001b[0m, \u001b[1;36m12500\u001b[0m\u001b[1m)\u001b[0m\u001b[1m]\u001b[0m.                                        \n",
      "\u001b[33mWARNING \u001b[0m Densifying data in `adata.obsm\u001b[1m[\u001b[0m\u001b[32m'brain_area_onehot'\u001b[0m\u001b[1m]\u001b[0m`                                                      \n",
      "\u001b[33mWARNING \u001b[0m Densifying data in `adata.obsm\u001b[1m[\u001b[0m\u001b[32m'brain_area_onehot'\u001b[0m\u001b[1m]\u001b[0m`                                                      \n",
      "\u001b[34mINFO    \u001b[0m Solving `\u001b[1;36m1\u001b[0m` problems                                                                                      \n",
      "\u001b[34mINFO    \u001b[0m Solving problem OTProblem\u001b[1m[\u001b[0m\u001b[33mstage\u001b[0m=\u001b[32m'prepared'\u001b[0m, \u001b[33mshape\u001b[0m=\u001b[1m(\u001b[0m\u001b[1;36m12500\u001b[0m, \u001b[1;36m12500\u001b[0m\u001b[1m)\u001b[0m\u001b[1m]\u001b[0m.                                        \n",
      "\u001b[33mWARNING \u001b[0m Densifying data in `adata.obsm\u001b[1m[\u001b[0m\u001b[32m'brain_area_onehot'\u001b[0m\u001b[1m]\u001b[0m`                                                      \n",
      "\u001b[33mWARNING \u001b[0m Densifying data in `adata.obsm\u001b[1m[\u001b[0m\u001b[32m'brain_area_onehot'\u001b[0m\u001b[1m]\u001b[0m`                                                      \n",
      "\u001b[34mINFO    \u001b[0m Solving `\u001b[1;36m1\u001b[0m` problems                                                                                      \n",
      "\u001b[34mINFO    \u001b[0m Solving problem OTProblem\u001b[1m[\u001b[0m\u001b[33mstage\u001b[0m=\u001b[32m'prepared'\u001b[0m, \u001b[33mshape\u001b[0m=\u001b[1m(\u001b[0m\u001b[1;36m12500\u001b[0m, \u001b[1;36m12500\u001b[0m\u001b[1m)\u001b[0m\u001b[1m]\u001b[0m.                                        \n",
      "\u001b[33mWARNING \u001b[0m Densifying data in `adata.obsm\u001b[1m[\u001b[0m\u001b[32m'brain_area_onehot'\u001b[0m\u001b[1m]\u001b[0m`                                                      \n",
      "\u001b[33mWARNING \u001b[0m Densifying data in `adata.obsm\u001b[1m[\u001b[0m\u001b[32m'brain_area_onehot'\u001b[0m\u001b[1m]\u001b[0m`                                                      \n",
      "\u001b[34mINFO    \u001b[0m Solving `\u001b[1;36m1\u001b[0m` problems                                                                                      \n",
      "\u001b[34mINFO    \u001b[0m Solving problem OTProblem\u001b[1m[\u001b[0m\u001b[33mstage\u001b[0m=\u001b[32m'prepared'\u001b[0m, \u001b[33mshape\u001b[0m=\u001b[1m(\u001b[0m\u001b[1;36m12500\u001b[0m, \u001b[1;36m12500\u001b[0m\u001b[1m)\u001b[0m\u001b[1m]\u001b[0m.                                        \n",
      "\u001b[33mWARNING \u001b[0m Densifying data in `adata.obsm\u001b[1m[\u001b[0m\u001b[32m'brain_area_onehot'\u001b[0m\u001b[1m]\u001b[0m`                                                      \n",
      "\u001b[33mWARNING \u001b[0m Densifying data in `adata.obsm\u001b[1m[\u001b[0m\u001b[32m'brain_area_onehot'\u001b[0m\u001b[1m]\u001b[0m`                                                      \n",
      "\u001b[33mWARNING \u001b[0m Densifying data in `adata.obsm\u001b[1m[\u001b[0m\u001b[32m'brain_area_onehot'\u001b[0m\u001b[1m]\u001b[0m`                                                      \n",
      "\u001b[33mWARNING \u001b[0m Densifying data in `adata.obsm\u001b[1m[\u001b[0m\u001b[32m'brain_area_onehot'\u001b[0m\u001b[1m]\u001b[0m`                                                      \n",
      "\u001b[33mWARNING \u001b[0m Densifying data in `adata.obsm\u001b[1m[\u001b[0m\u001b[32m'brain_area_onehot'\u001b[0m\u001b[1m]\u001b[0m`                                                      \n",
      "\u001b[33mWARNING \u001b[0m Densifying data in `adata.obsm\u001b[1m[\u001b[0m\u001b[32m'brain_area_onehot'\u001b[0m\u001b[1m]\u001b[0m`                                                      \n",
      "\u001b[33mWARNING \u001b[0m Densifying data in `adata.obsm\u001b[1m[\u001b[0m\u001b[32m'brain_area_onehot'\u001b[0m\u001b[1m]\u001b[0m`                                                      \n",
      "\u001b[33mWARNING \u001b[0m Densifying data in `adata.obsm\u001b[1m[\u001b[0m\u001b[32m'brain_area_onehot'\u001b[0m\u001b[1m]\u001b[0m`                                                      \n",
      "Fraction 0\n"
     ]
    },
    {
     "name": "stderr",
     "output_type": "stream",
     "text": [
      "100%|██████████| 12500/12500 [00:04<00:00, 2639.64it/s]\n"
     ]
    },
    {
     "name": "stdout",
     "output_type": "stream",
     "text": [
      "Fraction 1\n"
     ]
    },
    {
     "name": "stderr",
     "output_type": "stream",
     "text": [
      "100%|██████████| 12500/12500 [00:04<00:00, 2645.48it/s]\n"
     ]
    },
    {
     "name": "stdout",
     "output_type": "stream",
     "text": [
      "Fraction 2\n"
     ]
    },
    {
     "name": "stderr",
     "output_type": "stream",
     "text": [
      "100%|██████████| 12500/12500 [00:04<00:00, 2641.20it/s]\n"
     ]
    },
    {
     "name": "stdout",
     "output_type": "stream",
     "text": [
      "Fraction 3\n"
     ]
    },
    {
     "name": "stderr",
     "output_type": "stream",
     "text": [
      "100%|██████████| 12500/12500 [00:04<00:00, 2612.28it/s]\n"
     ]
    },
    {
     "name": "stdout",
     "output_type": "stream",
     "text": [
      "0.35000000000000003 0.19051564932714213\n",
      "Source Adatas: [(12500, 50), (12500, 50), (12500, 50), (12500, 50)]\n",
      "Target Adatas: [(12500, 1536), (12500, 1536), (12500, 1536), (12500, 1536)]\n",
      "\u001b[33mWARNING \u001b[0m Densifying data in `adata.obsm\u001b[1m[\u001b[0m\u001b[32m'brain_area_onehot'\u001b[0m\u001b[1m]\u001b[0m`                                                      \n",
      "\u001b[33mWARNING \u001b[0m Densifying data in `adata.obsm\u001b[1m[\u001b[0m\u001b[32m'brain_area_onehot'\u001b[0m\u001b[1m]\u001b[0m`                                                      \n",
      "\u001b[34mINFO    \u001b[0m Solving `\u001b[1;36m1\u001b[0m` problems                                                                                      \n",
      "\u001b[34mINFO    \u001b[0m Solving problem OTProblem\u001b[1m[\u001b[0m\u001b[33mstage\u001b[0m=\u001b[32m'prepared'\u001b[0m, \u001b[33mshape\u001b[0m=\u001b[1m(\u001b[0m\u001b[1;36m12500\u001b[0m, \u001b[1;36m12500\u001b[0m\u001b[1m)\u001b[0m\u001b[1m]\u001b[0m.                                        \n",
      "\u001b[33mWARNING \u001b[0m Densifying data in `adata.obsm\u001b[1m[\u001b[0m\u001b[32m'brain_area_onehot'\u001b[0m\u001b[1m]\u001b[0m`                                                      \n",
      "\u001b[33mWARNING \u001b[0m Densifying data in `adata.obsm\u001b[1m[\u001b[0m\u001b[32m'brain_area_onehot'\u001b[0m\u001b[1m]\u001b[0m`                                                      \n",
      "\u001b[34mINFO    \u001b[0m Solving `\u001b[1;36m1\u001b[0m` problems                                                                                      \n",
      "\u001b[34mINFO    \u001b[0m Solving problem OTProblem\u001b[1m[\u001b[0m\u001b[33mstage\u001b[0m=\u001b[32m'prepared'\u001b[0m, \u001b[33mshape\u001b[0m=\u001b[1m(\u001b[0m\u001b[1;36m12500\u001b[0m, \u001b[1;36m12500\u001b[0m\u001b[1m)\u001b[0m\u001b[1m]\u001b[0m.                                        \n",
      "\u001b[33mWARNING \u001b[0m Densifying data in `adata.obsm\u001b[1m[\u001b[0m\u001b[32m'brain_area_onehot'\u001b[0m\u001b[1m]\u001b[0m`                                                      \n",
      "\u001b[33mWARNING \u001b[0m Densifying data in `adata.obsm\u001b[1m[\u001b[0m\u001b[32m'brain_area_onehot'\u001b[0m\u001b[1m]\u001b[0m`                                                      \n",
      "\u001b[34mINFO    \u001b[0m Solving `\u001b[1;36m1\u001b[0m` problems                                                                                      \n",
      "\u001b[34mINFO    \u001b[0m Solving problem OTProblem\u001b[1m[\u001b[0m\u001b[33mstage\u001b[0m=\u001b[32m'prepared'\u001b[0m, \u001b[33mshape\u001b[0m=\u001b[1m(\u001b[0m\u001b[1;36m12500\u001b[0m, \u001b[1;36m12500\u001b[0m\u001b[1m)\u001b[0m\u001b[1m]\u001b[0m.                                        \n",
      "\u001b[33mWARNING \u001b[0m Densifying data in `adata.obsm\u001b[1m[\u001b[0m\u001b[32m'brain_area_onehot'\u001b[0m\u001b[1m]\u001b[0m`                                                      \n",
      "\u001b[33mWARNING \u001b[0m Densifying data in `adata.obsm\u001b[1m[\u001b[0m\u001b[32m'brain_area_onehot'\u001b[0m\u001b[1m]\u001b[0m`                                                      \n",
      "\u001b[34mINFO    \u001b[0m Solving `\u001b[1;36m1\u001b[0m` problems                                                                                      \n",
      "\u001b[34mINFO    \u001b[0m Solving problem OTProblem\u001b[1m[\u001b[0m\u001b[33mstage\u001b[0m=\u001b[32m'prepared'\u001b[0m, \u001b[33mshape\u001b[0m=\u001b[1m(\u001b[0m\u001b[1;36m12500\u001b[0m, \u001b[1;36m12500\u001b[0m\u001b[1m)\u001b[0m\u001b[1m]\u001b[0m.                                        \n",
      "\u001b[33mWARNING \u001b[0m Densifying data in `adata.obsm\u001b[1m[\u001b[0m\u001b[32m'brain_area_onehot'\u001b[0m\u001b[1m]\u001b[0m`                                                      \n",
      "\u001b[33mWARNING \u001b[0m Densifying data in `adata.obsm\u001b[1m[\u001b[0m\u001b[32m'brain_area_onehot'\u001b[0m\u001b[1m]\u001b[0m`                                                      \n",
      "\u001b[33mWARNING \u001b[0m Densifying data in `adata.obsm\u001b[1m[\u001b[0m\u001b[32m'brain_area_onehot'\u001b[0m\u001b[1m]\u001b[0m`                                                      \n",
      "\u001b[33mWARNING \u001b[0m Densifying data in `adata.obsm\u001b[1m[\u001b[0m\u001b[32m'brain_area_onehot'\u001b[0m\u001b[1m]\u001b[0m`                                                      \n",
      "\u001b[33mWARNING \u001b[0m Densifying data in `adata.obsm\u001b[1m[\u001b[0m\u001b[32m'brain_area_onehot'\u001b[0m\u001b[1m]\u001b[0m`                                                      \n",
      "\u001b[33mWARNING \u001b[0m Densifying data in `adata.obsm\u001b[1m[\u001b[0m\u001b[32m'brain_area_onehot'\u001b[0m\u001b[1m]\u001b[0m`                                                      \n",
      "\u001b[33mWARNING \u001b[0m Densifying data in `adata.obsm\u001b[1m[\u001b[0m\u001b[32m'brain_area_onehot'\u001b[0m\u001b[1m]\u001b[0m`                                                      \n",
      "\u001b[33mWARNING \u001b[0m Densifying data in `adata.obsm\u001b[1m[\u001b[0m\u001b[32m'brain_area_onehot'\u001b[0m\u001b[1m]\u001b[0m`                                                      \n",
      "Fraction 0\n"
     ]
    },
    {
     "name": "stderr",
     "output_type": "stream",
     "text": [
      "100%|██████████| 12500/12500 [00:04<00:00, 2647.65it/s]\n"
     ]
    },
    {
     "name": "stdout",
     "output_type": "stream",
     "text": [
      "Fraction 1\n"
     ]
    },
    {
     "name": "stderr",
     "output_type": "stream",
     "text": [
      "100%|██████████| 12500/12500 [00:04<00:00, 2647.91it/s]\n"
     ]
    },
    {
     "name": "stdout",
     "output_type": "stream",
     "text": [
      "Fraction 2\n"
     ]
    },
    {
     "name": "stderr",
     "output_type": "stream",
     "text": [
      "100%|██████████| 12500/12500 [00:04<00:00, 2644.11it/s]\n"
     ]
    },
    {
     "name": "stdout",
     "output_type": "stream",
     "text": [
      "Fraction 3\n"
     ]
    },
    {
     "name": "stderr",
     "output_type": "stream",
     "text": [
      "100%|██████████| 12500/12500 [00:04<00:00, 2628.53it/s]\n"
     ]
    },
    {
     "name": "stdout",
     "output_type": "stream",
     "text": [
      "0.4 0.189369022933232\n",
      "Source Adatas: [(12500, 50), (12500, 50), (12500, 50), (12500, 50)]\n",
      "Target Adatas: [(12500, 1536), (12500, 1536), (12500, 1536), (12500, 1536)]\n",
      "\u001b[33mWARNING \u001b[0m Densifying data in `adata.obsm\u001b[1m[\u001b[0m\u001b[32m'brain_area_onehot'\u001b[0m\u001b[1m]\u001b[0m`                                                      \n",
      "\u001b[33mWARNING \u001b[0m Densifying data in `adata.obsm\u001b[1m[\u001b[0m\u001b[32m'brain_area_onehot'\u001b[0m\u001b[1m]\u001b[0m`                                                      \n",
      "\u001b[34mINFO    \u001b[0m Solving `\u001b[1;36m1\u001b[0m` problems                                                                                      \n",
      "\u001b[34mINFO    \u001b[0m Solving problem OTProblem\u001b[1m[\u001b[0m\u001b[33mstage\u001b[0m=\u001b[32m'prepared'\u001b[0m, \u001b[33mshape\u001b[0m=\u001b[1m(\u001b[0m\u001b[1;36m12500\u001b[0m, \u001b[1;36m12500\u001b[0m\u001b[1m)\u001b[0m\u001b[1m]\u001b[0m.                                        \n",
      "\u001b[33mWARNING \u001b[0m Densifying data in `adata.obsm\u001b[1m[\u001b[0m\u001b[32m'brain_area_onehot'\u001b[0m\u001b[1m]\u001b[0m`                                                      \n",
      "\u001b[33mWARNING \u001b[0m Densifying data in `adata.obsm\u001b[1m[\u001b[0m\u001b[32m'brain_area_onehot'\u001b[0m\u001b[1m]\u001b[0m`                                                      \n",
      "\u001b[34mINFO    \u001b[0m Solving `\u001b[1;36m1\u001b[0m` problems                                                                                      \n",
      "\u001b[34mINFO    \u001b[0m Solving problem OTProblem\u001b[1m[\u001b[0m\u001b[33mstage\u001b[0m=\u001b[32m'prepared'\u001b[0m, \u001b[33mshape\u001b[0m=\u001b[1m(\u001b[0m\u001b[1;36m12500\u001b[0m, \u001b[1;36m12500\u001b[0m\u001b[1m)\u001b[0m\u001b[1m]\u001b[0m.                                        \n",
      "\u001b[33mWARNING \u001b[0m Densifying data in `adata.obsm\u001b[1m[\u001b[0m\u001b[32m'brain_area_onehot'\u001b[0m\u001b[1m]\u001b[0m`                                                      \n",
      "\u001b[33mWARNING \u001b[0m Densifying data in `adata.obsm\u001b[1m[\u001b[0m\u001b[32m'brain_area_onehot'\u001b[0m\u001b[1m]\u001b[0m`                                                      \n",
      "\u001b[34mINFO    \u001b[0m Solving `\u001b[1;36m1\u001b[0m` problems                                                                                      \n",
      "\u001b[34mINFO    \u001b[0m Solving problem OTProblem\u001b[1m[\u001b[0m\u001b[33mstage\u001b[0m=\u001b[32m'prepared'\u001b[0m, \u001b[33mshape\u001b[0m=\u001b[1m(\u001b[0m\u001b[1;36m12500\u001b[0m, \u001b[1;36m12500\u001b[0m\u001b[1m)\u001b[0m\u001b[1m]\u001b[0m.                                        \n",
      "\u001b[33mWARNING \u001b[0m Densifying data in `adata.obsm\u001b[1m[\u001b[0m\u001b[32m'brain_area_onehot'\u001b[0m\u001b[1m]\u001b[0m`                                                      \n",
      "\u001b[33mWARNING \u001b[0m Densifying data in `adata.obsm\u001b[1m[\u001b[0m\u001b[32m'brain_area_onehot'\u001b[0m\u001b[1m]\u001b[0m`                                                      \n",
      "\u001b[34mINFO    \u001b[0m Solving `\u001b[1;36m1\u001b[0m` problems                                                                                      \n",
      "\u001b[34mINFO    \u001b[0m Solving problem OTProblem\u001b[1m[\u001b[0m\u001b[33mstage\u001b[0m=\u001b[32m'prepared'\u001b[0m, \u001b[33mshape\u001b[0m=\u001b[1m(\u001b[0m\u001b[1;36m12500\u001b[0m, \u001b[1;36m12500\u001b[0m\u001b[1m)\u001b[0m\u001b[1m]\u001b[0m.                                        \n",
      "\u001b[33mWARNING \u001b[0m Densifying data in `adata.obsm\u001b[1m[\u001b[0m\u001b[32m'brain_area_onehot'\u001b[0m\u001b[1m]\u001b[0m`                                                      \n",
      "\u001b[33mWARNING \u001b[0m Densifying data in `adata.obsm\u001b[1m[\u001b[0m\u001b[32m'brain_area_onehot'\u001b[0m\u001b[1m]\u001b[0m`                                                      \n",
      "\u001b[33mWARNING \u001b[0m Densifying data in `adata.obsm\u001b[1m[\u001b[0m\u001b[32m'brain_area_onehot'\u001b[0m\u001b[1m]\u001b[0m`                                                      \n",
      "\u001b[33mWARNING \u001b[0m Densifying data in `adata.obsm\u001b[1m[\u001b[0m\u001b[32m'brain_area_onehot'\u001b[0m\u001b[1m]\u001b[0m`                                                      \n",
      "\u001b[33mWARNING \u001b[0m Densifying data in `adata.obsm\u001b[1m[\u001b[0m\u001b[32m'brain_area_onehot'\u001b[0m\u001b[1m]\u001b[0m`                                                      \n",
      "\u001b[33mWARNING \u001b[0m Densifying data in `adata.obsm\u001b[1m[\u001b[0m\u001b[32m'brain_area_onehot'\u001b[0m\u001b[1m]\u001b[0m`                                                      \n",
      "\u001b[33mWARNING \u001b[0m Densifying data in `adata.obsm\u001b[1m[\u001b[0m\u001b[32m'brain_area_onehot'\u001b[0m\u001b[1m]\u001b[0m`                                                      \n",
      "\u001b[33mWARNING \u001b[0m Densifying data in `adata.obsm\u001b[1m[\u001b[0m\u001b[32m'brain_area_onehot'\u001b[0m\u001b[1m]\u001b[0m`                                                      \n",
      "Fraction 0\n"
     ]
    },
    {
     "name": "stderr",
     "output_type": "stream",
     "text": [
      "100%|██████████| 12500/12500 [00:04<00:00, 2640.64it/s]\n"
     ]
    },
    {
     "name": "stdout",
     "output_type": "stream",
     "text": [
      "Fraction 1\n"
     ]
    },
    {
     "name": "stderr",
     "output_type": "stream",
     "text": [
      "100%|██████████| 12500/12500 [00:04<00:00, 2643.64it/s]\n"
     ]
    },
    {
     "name": "stdout",
     "output_type": "stream",
     "text": [
      "Fraction 2\n"
     ]
    },
    {
     "name": "stderr",
     "output_type": "stream",
     "text": [
      "100%|██████████| 12500/12500 [00:04<00:00, 2639.87it/s]\n"
     ]
    },
    {
     "name": "stdout",
     "output_type": "stream",
     "text": [
      "Fraction 3\n"
     ]
    },
    {
     "name": "stderr",
     "output_type": "stream",
     "text": [
      "100%|██████████| 12500/12500 [00:04<00:00, 2613.43it/s]\n"
     ]
    },
    {
     "name": "stdout",
     "output_type": "stream",
     "text": [
      "0.45 0.18833678258152844\n",
      "Source Adatas: [(12500, 50), (12500, 50), (12500, 50), (12500, 50)]\n",
      "Target Adatas: [(12500, 1536), (12500, 1536), (12500, 1536), (12500, 1536)]\n",
      "\u001b[33mWARNING \u001b[0m Densifying data in `adata.obsm\u001b[1m[\u001b[0m\u001b[32m'brain_area_onehot'\u001b[0m\u001b[1m]\u001b[0m`                                                      \n",
      "\u001b[33mWARNING \u001b[0m Densifying data in `adata.obsm\u001b[1m[\u001b[0m\u001b[32m'brain_area_onehot'\u001b[0m\u001b[1m]\u001b[0m`                                                      \n",
      "\u001b[34mINFO    \u001b[0m Solving `\u001b[1;36m1\u001b[0m` problems                                                                                      \n",
      "\u001b[34mINFO    \u001b[0m Solving problem OTProblem\u001b[1m[\u001b[0m\u001b[33mstage\u001b[0m=\u001b[32m'prepared'\u001b[0m, \u001b[33mshape\u001b[0m=\u001b[1m(\u001b[0m\u001b[1;36m12500\u001b[0m, \u001b[1;36m12500\u001b[0m\u001b[1m)\u001b[0m\u001b[1m]\u001b[0m.                                        \n",
      "\u001b[33mWARNING \u001b[0m Densifying data in `adata.obsm\u001b[1m[\u001b[0m\u001b[32m'brain_area_onehot'\u001b[0m\u001b[1m]\u001b[0m`                                                      \n",
      "\u001b[33mWARNING \u001b[0m Densifying data in `adata.obsm\u001b[1m[\u001b[0m\u001b[32m'brain_area_onehot'\u001b[0m\u001b[1m]\u001b[0m`                                                      \n",
      "\u001b[34mINFO    \u001b[0m Solving `\u001b[1;36m1\u001b[0m` problems                                                                                      \n",
      "\u001b[34mINFO    \u001b[0m Solving problem OTProblem\u001b[1m[\u001b[0m\u001b[33mstage\u001b[0m=\u001b[32m'prepared'\u001b[0m, \u001b[33mshape\u001b[0m=\u001b[1m(\u001b[0m\u001b[1;36m12500\u001b[0m, \u001b[1;36m12500\u001b[0m\u001b[1m)\u001b[0m\u001b[1m]\u001b[0m.                                        \n",
      "\u001b[33mWARNING \u001b[0m Densifying data in `adata.obsm\u001b[1m[\u001b[0m\u001b[32m'brain_area_onehot'\u001b[0m\u001b[1m]\u001b[0m`                                                      \n",
      "\u001b[33mWARNING \u001b[0m Densifying data in `adata.obsm\u001b[1m[\u001b[0m\u001b[32m'brain_area_onehot'\u001b[0m\u001b[1m]\u001b[0m`                                                      \n",
      "\u001b[34mINFO    \u001b[0m Solving `\u001b[1;36m1\u001b[0m` problems                                                                                      \n",
      "\u001b[34mINFO    \u001b[0m Solving problem OTProblem\u001b[1m[\u001b[0m\u001b[33mstage\u001b[0m=\u001b[32m'prepared'\u001b[0m, \u001b[33mshape\u001b[0m=\u001b[1m(\u001b[0m\u001b[1;36m12500\u001b[0m, \u001b[1;36m12500\u001b[0m\u001b[1m)\u001b[0m\u001b[1m]\u001b[0m.                                        \n",
      "\u001b[33mWARNING \u001b[0m Densifying data in `adata.obsm\u001b[1m[\u001b[0m\u001b[32m'brain_area_onehot'\u001b[0m\u001b[1m]\u001b[0m`                                                      \n",
      "\u001b[33mWARNING \u001b[0m Densifying data in `adata.obsm\u001b[1m[\u001b[0m\u001b[32m'brain_area_onehot'\u001b[0m\u001b[1m]\u001b[0m`                                                      \n",
      "\u001b[34mINFO    \u001b[0m Solving `\u001b[1;36m1\u001b[0m` problems                                                                                      \n",
      "\u001b[34mINFO    \u001b[0m Solving problem OTProblem\u001b[1m[\u001b[0m\u001b[33mstage\u001b[0m=\u001b[32m'prepared'\u001b[0m, \u001b[33mshape\u001b[0m=\u001b[1m(\u001b[0m\u001b[1;36m12500\u001b[0m, \u001b[1;36m12500\u001b[0m\u001b[1m)\u001b[0m\u001b[1m]\u001b[0m.                                        \n",
      "\u001b[33mWARNING \u001b[0m Densifying data in `adata.obsm\u001b[1m[\u001b[0m\u001b[32m'brain_area_onehot'\u001b[0m\u001b[1m]\u001b[0m`                                                      \n",
      "\u001b[33mWARNING \u001b[0m Densifying data in `adata.obsm\u001b[1m[\u001b[0m\u001b[32m'brain_area_onehot'\u001b[0m\u001b[1m]\u001b[0m`                                                      \n",
      "\u001b[33mWARNING \u001b[0m Densifying data in `adata.obsm\u001b[1m[\u001b[0m\u001b[32m'brain_area_onehot'\u001b[0m\u001b[1m]\u001b[0m`                                                      \n",
      "\u001b[33mWARNING \u001b[0m Densifying data in `adata.obsm\u001b[1m[\u001b[0m\u001b[32m'brain_area_onehot'\u001b[0m\u001b[1m]\u001b[0m`                                                      \n",
      "\u001b[33mWARNING \u001b[0m Densifying data in `adata.obsm\u001b[1m[\u001b[0m\u001b[32m'brain_area_onehot'\u001b[0m\u001b[1m]\u001b[0m`                                                      \n",
      "\u001b[33mWARNING \u001b[0m Densifying data in `adata.obsm\u001b[1m[\u001b[0m\u001b[32m'brain_area_onehot'\u001b[0m\u001b[1m]\u001b[0m`                                                      \n",
      "\u001b[33mWARNING \u001b[0m Densifying data in `adata.obsm\u001b[1m[\u001b[0m\u001b[32m'brain_area_onehot'\u001b[0m\u001b[1m]\u001b[0m`                                                      \n",
      "\u001b[33mWARNING \u001b[0m Densifying data in `adata.obsm\u001b[1m[\u001b[0m\u001b[32m'brain_area_onehot'\u001b[0m\u001b[1m]\u001b[0m`                                                      \n",
      "Fraction 0\n"
     ]
    },
    {
     "name": "stderr",
     "output_type": "stream",
     "text": [
      "100%|██████████| 12500/12500 [00:04<00:00, 2627.68it/s]\n"
     ]
    },
    {
     "name": "stdout",
     "output_type": "stream",
     "text": [
      "Fraction 1\n"
     ]
    },
    {
     "name": "stderr",
     "output_type": "stream",
     "text": [
      "100%|██████████| 12500/12500 [00:04<00:00, 2651.34it/s]\n"
     ]
    },
    {
     "name": "stdout",
     "output_type": "stream",
     "text": [
      "Fraction 2\n"
     ]
    },
    {
     "name": "stderr",
     "output_type": "stream",
     "text": [
      "100%|██████████| 12500/12500 [00:04<00:00, 2653.03it/s]\n"
     ]
    },
    {
     "name": "stdout",
     "output_type": "stream",
     "text": [
      "Fraction 3\n"
     ]
    },
    {
     "name": "stderr",
     "output_type": "stream",
     "text": [
      "100%|██████████| 12500/12500 [00:04<00:00, 2651.71it/s]\n"
     ]
    },
    {
     "name": "stdout",
     "output_type": "stream",
     "text": [
      "0.5 0.18737137512697224\n"
     ]
    }
   ],
   "source": [
    "results = []\n",
    "epsilons = []\n",
    "for epsilon in np.linspace(5e-2, 0.5, 10):\n",
    "    seed = 42\n",
    "    source_key = \"pca_embedding\"\n",
    "    target_key = \"uni_pca_95\"\n",
    "    linear_term = \"brain_area_onehot\"\n",
    "    alpha = 0.3\n",
    "    path = \"/p/project1/hai_fzj_bda/koenig8/ot/mixing/fused_low_epsilon\"\n",
    "    \n",
    "    switch_to_gpu()\n",
    "    \n",
    "    fractions = 4    \n",
    "    success = test_input_size(adata_src, adata_target, path, fractions)\n",
    "    src_adatas, target_adatas, N, M, step_N, step_M, perm_N, perm_M = success\n",
    "\n",
    "    switch_to_cpu()\n",
    "\n",
    "    coords = translation_metric(src_adatas, target_adatas)\n",
    "    print(epsilon, coords)\n",
    "    results.append(coords)\n",
    "    epsilons.append(epsilon)"
   ]
  },
  {
   "cell_type": "code",
   "execution_count": 12,
   "id": "77c33bc1-e0d3-4a68-83f7-c9e251f2119a",
   "metadata": {},
   "outputs": [
    {
     "data": {
      "text/plain": [
       "<Axes: xlabel='Epsilon'>"
      ]
     },
     "execution_count": 12,
     "metadata": {},
     "output_type": "execute_result"
    },
    {
     "data": {
      "image/png": "[encoded data removed]",
      "text/plain": [
       "<Figure size 640x480 with 1 Axes>"
      ]
     },
     "metadata": {},
     "output_type": "display_data"
    }
   ],
   "source": [
    "pd.DataFrame(np.array([epsilons, results]).T, columns = [\"Epsilon\", \"R2\"]).plot.line(x=\"Epsilon\", y = \"R2\")"
   ]
  },
  {
   "cell_type": "markdown",
   "id": "9d3b1cb3-d5d6-4efe-82df-31de7695031a",
   "metadata": {},
   "source": [
    "#### Seems that 0.1 is the sweet spot for epsilon. Try again using the new embedding keys"
   ]
  },
  {
   "cell_type": "code",
   "execution_count": 16,
   "id": "ded18b34-dc34-4b36-96cb-ace3dec4033b",
   "metadata": {},
   "outputs": [
    {
     "name": "stdout",
     "output_type": "stream",
     "text": [
      "Source Adatas: [(12500, 50), (12500, 50), (12500, 50), (12500, 50)]\n",
      "Target Adatas: [(12500, 1536), (12500, 1536), (12500, 1536), (12500, 1536)]\n",
      "\u001b[34mINFO    \u001b[0m Solving `\u001b[1;36m1\u001b[0m` problems                                                                                      \n",
      "\u001b[34mINFO    \u001b[0m Solving problem OTProblem\u001b[1m[\u001b[0m\u001b[33mstage\u001b[0m=\u001b[32m'prepared'\u001b[0m, \u001b[33mshape\u001b[0m=\u001b[1m(\u001b[0m\u001b[1;36m12500\u001b[0m, \u001b[1;36m12500\u001b[0m\u001b[1m)\u001b[0m\u001b[1m]\u001b[0m.                                        \n",
      "\u001b[34mINFO    \u001b[0m Solving `\u001b[1;36m1\u001b[0m` problems                                                                                      \n",
      "\u001b[34mINFO    \u001b[0m Solving problem OTProblem\u001b[1m[\u001b[0m\u001b[33mstage\u001b[0m=\u001b[32m'prepared'\u001b[0m, \u001b[33mshape\u001b[0m=\u001b[1m(\u001b[0m\u001b[1;36m12500\u001b[0m, \u001b[1;36m12500\u001b[0m\u001b[1m)\u001b[0m\u001b[1m]\u001b[0m.                                        \n",
      "\u001b[34mINFO    \u001b[0m Solving `\u001b[1;36m1\u001b[0m` problems                                                                                      \n",
      "\u001b[34mINFO    \u001b[0m Solving problem OTProblem\u001b[1m[\u001b[0m\u001b[33mstage\u001b[0m=\u001b[32m'prepared'\u001b[0m, \u001b[33mshape\u001b[0m=\u001b[1m(\u001b[0m\u001b[1;36m12500\u001b[0m, \u001b[1;36m12500\u001b[0m\u001b[1m)\u001b[0m\u001b[1m]\u001b[0m.                                        \n",
      "\u001b[34mINFO    \u001b[0m Solving `\u001b[1;36m1\u001b[0m` problems                                                                                      \n",
      "\u001b[34mINFO    \u001b[0m Solving problem OTProblem\u001b[1m[\u001b[0m\u001b[33mstage\u001b[0m=\u001b[32m'prepared'\u001b[0m, \u001b[33mshape\u001b[0m=\u001b[1m(\u001b[0m\u001b[1;36m12500\u001b[0m, \u001b[1;36m12500\u001b[0m\u001b[1m)\u001b[0m\u001b[1m]\u001b[0m.                                        \n"
     ]
    }
   ],
   "source": [
    "epsilon = 0.1\n",
    "seed = 42\n",
    "source_key = \"pca_plus_slides_scaled\"\n",
    "target_key = \"uni_pca_plus_coords\"\n",
    "linear_term = \"brain_area_similarities\"\n",
    "alpha = 0.3\n",
    "path = \"/p/project1/hai_fzj_bda/koenig8/ot/mixing/fused_extended\"\n",
    "os.makedirs(path)\n",
    "\n",
    "switch_to_gpu()\n",
    "\n",
    "fractions = 4\n",
    "success = test_input_size(adata_src, adata_target, path, fractions)\n",
    "\n",
    "src_adatas, target_adatas, N, M, step_N, step_M, perm_N, perm_M = success"
   ]
  },
  {
   "cell_type": "code",
   "execution_count": 17,
   "id": "bc333f32-8cde-441d-81c9-896ba4a2e9fe",
   "metadata": {},
   "outputs": [
    {
     "name": "stdout",
     "output_type": "stream",
     "text": [
      "Fraction 0\n"
     ]
    },
    {
     "name": "stderr",
     "output_type": "stream",
     "text": [
      "100%|██████████| 12500/12500 [00:04<00:00, 2644.37it/s]\n"
     ]
    },
    {
     "name": "stdout",
     "output_type": "stream",
     "text": [
      "Fraction 1\n"
     ]
    },
    {
     "name": "stderr",
     "output_type": "stream",
     "text": [
      "100%|██████████| 12500/12500 [00:04<00:00, 2647.63it/s]\n"
     ]
    },
    {
     "name": "stdout",
     "output_type": "stream",
     "text": [
      "Fraction 2\n"
     ]
    },
    {
     "name": "stderr",
     "output_type": "stream",
     "text": [
      "100%|██████████| 12500/12500 [00:04<00:00, 2629.35it/s]\n"
     ]
    },
    {
     "name": "stdout",
     "output_type": "stream",
     "text": [
      "Fraction 3\n"
     ]
    },
    {
     "name": "stderr",
     "output_type": "stream",
     "text": [
      "100%|██████████| 12500/12500 [00:04<00:00, 2615.58it/s]\n"
     ]
    },
    {
     "data": {
      "text/plain": [
       "0.18462004776854105"
      ]
     },
     "execution_count": 17,
     "metadata": {},
     "output_type": "execute_result"
    }
   ],
   "source": [
    "switch_to_cpu()\n",
    "coords = translation_metric(src_adatas, target_adatas)\n",
    "coords"
   ]
  },
  {
   "cell_type": "markdown",
   "id": "c7f052be-d46c-4a5a-8fc5-b3d9e054c651",
   "metadata": {},
   "source": [
    "==> No  improvement"
   ]
  },
  {
   "cell_type": "code",
   "execution_count": null,
   "id": "dc5a2898-2482-415d-995d-e772601a14a9",
   "metadata": {},
   "outputs": [],
   "source": []
  }
 ],
 "metadata": {
  "kernelspec": {
   "display_name": "opt_transport",
   "language": "python",
   "name": "opt_transport"
  },
  "language_info": {
   "codemirror_mode": {
    "name": "ipython",
    "version": 3
   },
   "file_extension": ".py",
   "mimetype": "text/x-python",
   "name": "python",
   "nbconvert_exporter": "python",
   "pygments_lexer": "ipython3",
   "version": "3.10.4"
  }
 },
 "nbformat": 4,
 "nbformat_minor": 5
}
