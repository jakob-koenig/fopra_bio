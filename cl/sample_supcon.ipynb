{
 "cells": [
  {
   "cell_type": "markdown",
   "id": "15ae04c9-0b31-4a50-8af9-63774c00e979",
   "metadata": {},
   "source": [
    "## New SupCon sampler"
   ]
  },
  {
   "cell_type": "code",
   "execution_count": 18,
   "id": "779efd4b-0a00-4072-a03c-b5be74c495ae",
   "metadata": {},
   "outputs": [],
   "source": [
    "from torch.utils.data import Dataset\n",
    "from collections import defaultdict\n",
    "import torch\n",
    "import os\n",
    "import numpy as np\n",
    "import scanpy as sc\n",
    "import random\n",
    "from torch.utils.data import IterableDataset\n",
    "from torch.utils.data import DataLoader\n",
    "from plotnine import *\n",
    "import pandas as pd"
   ]
  },
  {
   "cell_type": "markdown",
   "id": "5ba6d808-e9bb-4b39-91cc-df8a4184dcd0",
   "metadata": {},
   "source": [
    "## Load the data"
   ]
  },
  {
   "cell_type": "code",
   "execution_count": 12,
   "id": "009b92af-93ad-42ae-a899-6f6fa8a70fab",
   "metadata": {},
   "outputs": [
    {
     "data": {
      "text/plain": [
       "(AnnData object with n_obs × n_vars = 50000 × 50\n",
       "     obs: 'patch_id', 'brain_area', 'patchsize', 'x_st', 'y_st', 'z_st', 'brain_section_label', 'section', 'test_set', 'val_set', 'train_set'\n",
       "     uns: 'neighbors', 'umap'\n",
       "     obsm: 'X_umap', 'brain_area_onehot', 'brain_area_similarities', 'pca_embedding', 'pca_plus_slides', 'pca_plus_slides_scaled'\n",
       "     obsp: 'connectivities', 'distances',\n",
       " View of AnnData object with n_obs × n_vars = 50000 × 1536\n",
       "     obs: 'image_id', 'patchsize', 'center_ccf', 'pixel_coord', 'distance', 'nearest_ST', 'nearest_cell_id', 'target_atlas_plate', 'distance_new', 'x', 'y', 'z', 'x_st', 'y_st', 'z_st', 'image_nr', 'brain_area', 'group', 'slice', 'in_sample', 'test_set', 'val_set', 'train_set'\n",
       "     obsm: 'brain_area_onehot', 'brain_area_similarities', 'uni_embedding', 'uni_pca_95', 'uni_pca_plus_coords')"
      ]
     },
     "execution_count": 12,
     "metadata": {},
     "output_type": "execute_result"
    }
   ],
   "source": [
    "path = \"/p/project1/hai_fzj_bda/koenig8/ot/data/\"\n",
    "adata_st = sc.read_h5ad(os.path.join(path, \"adata_st.h5ad\"))\n",
    "adata_histo = sc.read_h5ad(os.path.join(path, \"adata_histo.h5ad\"))\n",
    "adata_histo = adata_histo[adata_histo.obs.in_sample]\n",
    "adata_st, adata_histo"
   ]
  },
  {
   "cell_type": "markdown",
   "id": "08a406dc-ac68-4c8b-9336-81ac7f274c3f",
   "metadata": {},
   "source": [
    "## Dataset"
   ]
  },
  {
   "cell_type": "code",
   "execution_count": 74,
   "id": "7d8f6486-9cd0-4354-8ef4-44c675fbee46",
   "metadata": {},
   "outputs": [],
   "source": [
    "class DualModalityDataset(Dataset):\n",
    "    def __init__(self, embeddings_a, embeddings_b, labels_a, labels_b):\n",
    "        self.embeddings_a = embeddings_a\n",
    "        self.embeddings_b = embeddings_b\n",
    "        self.labels_a = labels_a\n",
    "        self.labels_b = labels_b\n",
    "\n",
    "        self.class_to_indices_a = self._index(labels_a)\n",
    "        self.class_to_indices_b = self._index(labels_b)\n",
    "        self.classes = list(set(self.class_to_indices_a) | set(self.class_to_indices_b))\n",
    "\n",
    "    def _index(self, labels):\n",
    "        index = defaultdict(list)\n",
    "        for i, label in enumerate(labels):\n",
    "            index[int(label)].append(i)\n",
    "        return index\n",
    "\n",
    "    def get_class_samples(self, cls, k):\n",
    "        a_idxs = self.class_to_indices_a.get(cls, [])\n",
    "        b_idxs = self.class_to_indices_b.get(cls, [])\n",
    "\n",
    "        a_sample = np.random.choice(a_idxs, min(k, len(a_idxs)), replace=False) if a_idxs else []\n",
    "        b_sample = np.random.choice(b_idxs, min(k, len(b_idxs)), replace=False) if b_idxs else []\n",
    "\n",
    "        return (\n",
    "            torch.stack([self.embeddings_a[i] for i in a_sample]) if len(a_sample) > 0 else None,\n",
    "            torch.stack([self.embeddings_b[i] for i in b_sample]) if len(b_sample) > 0 else None,\n",
    "            [cls] * len(a_sample),\n",
    "            [cls] * len(b_sample)\n",
    "        )\n"
   ]
  },
  {
   "cell_type": "code",
   "execution_count": 94,
   "id": "657ac8c4-6e19-4d3b-9999-3f03a0f49642",
   "metadata": {},
   "outputs": [],
   "source": [
    "class FixedQuotaSampler(IterableDataset):\n",
    "    def __init__(self, dataset, class_skew_dict, C=10, K=50, total_samples=100_000, seed = 42):\n",
    "        self.dataset = dataset\n",
    "        self.class_skew_dict = class_skew_dict  # class_id -> number of samples per epoch\n",
    "        self.C = C\n",
    "        self.K = K\n",
    "        self.minibatch = C * K\n",
    "        self.total_samples = total_samples\n",
    "        self.seed = seed\n",
    "        self.shuffle_counter = 0\n",
    "        self.rng = np.random.default_rng(seed)\n",
    "\n",
    "        self._prepare_epoch_class_queue()\n",
    "\n",
    "    def shuffle(self):\n",
    "        self.shuffle_counter += 1\n",
    "        self.rng = np.random.default_rng(self.seed + self.shuffle_counter)\n",
    "        self._prepare_epoch_class_queue()\n",
    "\n",
    "    def _prepare_epoch_class_queue(self):\n",
    "        # Compute number of times each class must be used in batches\n",
    "        classes = np.array(list(self.class_skew_dict.keys()))\n",
    "        classes_to_index = {value: idx for idx, value in enumerate(classes)}\n",
    "        class_counts = np.array(list(self.class_skew_dict.values()))\n",
    "        print(classes)\n",
    "        print(class_counts)\n",
    "        print((class_counts > 0).sum())\n",
    "        enough_classes_left = True\n",
    "        class_queue = []\n",
    "\n",
    "        while(enough_classes_left):            \n",
    "            classes_i = self.rng.choice(\n",
    "                classes, size = self.C, replace=False, p=class_counts/class_counts.sum(), shuffle=True\n",
    "            )\n",
    "            indices = np.array([classes_to_index[c] for c in classes_i])\n",
    "            class_counts[indices] = np.maximum(class_counts[indices] - self.K * 2, 0)\n",
    "            if (class_counts > 0).sum() < self.C:\n",
    "                # Not enough values left to sample, finish the epoch\n",
    "                enough_classes_left=False\n",
    "            else:\n",
    "                class_queue.append(classes_i)  # We get 2*K samples per class, K per modality\n",
    "\n",
    "        self.class_queue = np.hstack(class_queue)\n",
    "\n",
    "    def __iter__(self):\n",
    "        for i in range(0, len(self.class_queue), self.C):\n",
    "            selected = self.class_queue[i:self.C + i]\n",
    "            assert np.unique(selected).size == selected.size\n",
    "\n",
    "            a_batch, b_batch, a_labels, b_labels = [], [], [], []\n",
    "            for cls in selected:\n",
    "                a, b, a_lbl, b_lbl = self.dataset.get_class_samples(cls, self.K)\n",
    "                if a is not None:\n",
    "                    a_batch.append(a)\n",
    "                    a_labels.extend(a_lbl)\n",
    "                if b is not None:\n",
    "                    b_batch.append(b)\n",
    "                    b_labels.extend(b_lbl)\n",
    "\n",
    "            yield {\n",
    "                \"a_batch\": torch.cat(a_batch) if a_batch else torch.empty(0),\n",
    "                \"b_batch\": torch.cat(b_batch) if b_batch else torch.empty(0),\n",
    "                \"a_classes\": torch.tensor(a_labels),\n",
    "                \"b_classes\": torch.tensor(b_labels)\n",
    "            }"
   ]
  },
  {
   "cell_type": "code",
   "execution_count": 76,
   "id": "749e6204-aec2-4da6-a7e9-ce6845df5bbc",
   "metadata": {},
   "outputs": [],
   "source": [
    "def redistribute_around_mean(arr, scale=0):\n",
    "    arr = np.array(arr, dtype=np.float64)\n",
    "    mean = np.mean(arr)\n",
    "    total = np.sum(arr)\n",
    "\n",
    "    # Compute how far each element is from the mean\n",
    "    deviation = arr - mean\n",
    "\n",
    "    # Apply scaling: higher deviations change more\n",
    "    adjusted = arr - scale * deviation\n",
    "\n",
    "    # Renormalize to match the original sum\n",
    "    adjusted_sum = np.sum(adjusted)\n",
    "    adjusted = adjusted * (total / adjusted_sum)\n",
    "    adjusted = adjusted.astype(int)\n",
    "\n",
    "    return adjusted"
   ]
  },
  {
   "cell_type": "code",
   "execution_count": 77,
   "id": "c8493692-ec62-4157-b9ce-bd929feb437e",
   "metadata": {},
   "outputs": [
    {
     "data": {
      "image/png": "[encoded data removed]"
     },
     "metadata": {
      "image/png": {
       "height": 480,
       "width": 640
      }
     },
     "output_type": "display_data"
    }
   ],
   "source": [
    "embeddings_a = torch.Tensor(adata_st.obsm[\"pca_embedding\"])\n",
    "labels_a = torch.Tensor(adata_st.obsm[\"brain_area_onehot\"].toarray().nonzero()[-1])\n",
    "embeddings_b = torch.Tensor(adata_histo.obsm[\"uni_pca_95\"])\n",
    "labels_b = torch.Tensor(adata_histo.obsm[\"brain_area_onehot\"].toarray().nonzero()[-1])\n",
    "\n",
    "classes, freqs = np.unique(np.hstack([labels_a.numpy(), labels_b.numpy()]), return_counts = True)\n",
    "classes = classes.astype(int)\n",
    "new_freqs = redistribute_around_mean(freqs, 0.3)\n",
    "n = freqs.shape[0]\n",
    "\n",
    "df_plot = pd.DataFrame(dict(\n",
    "    classes = np.hstack((classes, classes)), \n",
    "    frequencies = np.hstack((freqs, new_freqs)), \n",
    "    altered = np.hstack((np.zeros(n), np.ones(n))).astype(bool) \n",
    "))\n",
    "(ggplot(df_plot, aes(x = \"classes\", y = \"frequencies\", fill = \"altered\")) + \n",
    "geom_bar(stat=\"identity\", position=\"dodge\"))"
   ]
  },
  {
   "cell_type": "code",
   "execution_count": 103,
   "id": "cbaac8ab-26bb-4e22-89b9-b16fce0e5e93",
   "metadata": {},
   "outputs": [
    {
     "data": {
      "text/plain": [
       "np.int64(100000)"
      ]
     },
     "execution_count": 103,
     "metadata": {},
     "output_type": "execute_result"
    }
   ],
   "source": [
    "freqs.sum()"
   ]
  },
  {
   "cell_type": "code",
   "execution_count": 78,
   "id": "27170ef4-665f-484c-8aa6-949c7d10cdce",
   "metadata": {},
   "outputs": [
    {
     "data": {
      "text/plain": [
       "np.int64(99989)"
      ]
     },
     "execution_count": 78,
     "metadata": {},
     "output_type": "execute_result"
    }
   ],
   "source": [
    "new_freqs.sum()"
   ]
  },
  {
   "cell_type": "markdown",
   "id": "76cf055c-ce22-4e31-baee-a380ed089059",
   "metadata": {},
   "source": [
    "#### Give whatevers missing to largest class"
   ]
  },
  {
   "cell_type": "code",
   "execution_count": 79,
   "id": "778b328a-f4da-4033-bca8-355035cab508",
   "metadata": {},
   "outputs": [
    {
     "data": {
      "text/plain": [
       "np.int64(100000)"
      ]
     },
     "execution_count": 79,
     "metadata": {},
     "output_type": "execute_result"
    }
   ],
   "source": [
    "new_freqs[np.argmax(new_freqs)] += 11\n",
    "new_freqs.sum()"
   ]
  },
  {
   "cell_type": "code",
   "execution_count": 95,
   "id": "28167b2a-2257-489b-8ccb-e41a835152fa",
   "metadata": {},
   "outputs": [
    {
     "name": "stdout",
     "output_type": "stream",
     "text": [
      "[ 0  1  2  3  4  5  6  7  8  9 10 11 12 13 14 15 16 17 18]\n",
      "[ 7295  2337  5316  3779  3629 28740  1907  6545  2518  8367  2031  1738\n",
      "  3671  4309  2663  3685  2104  2302  7064]\n",
      "19\n"
     ]
    }
   ],
   "source": [
    "# Example skewed class histogram\n",
    "class_counts = dict(zip(classes, new_freqs))\n",
    "\n",
    "dataset = DualModalityDataset(embeddings_a, embeddings_b, labels_a, labels_b)\n",
    "sampler = FixedQuotaSampler(dataset, class_skew_dict=class_counts, C=10, K=50)\n",
    "loader = DataLoader(sampler, batch_size=None)\n"
   ]
  },
  {
   "cell_type": "code",
   "execution_count": 96,
   "id": "3b09b4ea-7f84-464c-9774-dd5505f382c6",
   "metadata": {},
   "outputs": [
    {
     "data": {
      "text/plain": [
       "(34490, 35182)"
      ]
     },
     "execution_count": 96,
     "metadata": {},
     "output_type": "execute_result"
    }
   ],
   "source": [
    "n = 0\n",
    "m = 0\n",
    "for batch in loader:\n",
    "    n += batch['a_classes'].shape[0] \n",
    "    m += batch['b_classes'].shape[0]\n",
    "n, m"
   ]
  },
  {
   "cell_type": "code",
   "execution_count": 97,
   "id": "f3a239d1-e52e-454d-bdf2-c722bf45e7da",
   "metadata": {},
   "outputs": [
    {
     "data": {
      "text/plain": [
       "440"
      ]
     },
     "execution_count": 97,
     "metadata": {},
     "output_type": "execute_result"
    }
   ],
   "source": [
    "for batch in loader:\n",
    "    n = batch['a_classes'].shape[0]\n",
    "    break\n",
    "n"
   ]
  },
  {
   "cell_type": "markdown",
   "id": "371ba017-87f1-41b1-b230-c18a984bbdaa",
   "metadata": {},
   "source": [
    "# Make sure that no class is present more than K times"
   ]
  },
  {
   "cell_type": "code",
   "execution_count": 98,
   "id": "4c525e33-aebd-40b8-9c57-f20b28fd99f6",
   "metadata": {},
   "outputs": [],
   "source": [
    "for batch in loader:\n",
    "    vals, counts = np.unique(batch['a_classes'].numpy(), return_counts=True)\n",
    "    assert (counts <= 50).all()\n",
    "    assert (counts > 1).all()\n",
    "\n",
    "    vals, counts = np.unique(batch['b_classes'].numpy(), return_counts=True)\n",
    "    assert (counts <= 50).all()\n",
    "    assert (counts > 1).all()"
   ]
  },
  {
   "cell_type": "markdown",
   "id": "68d9c7e9-58ce-47b4-bf99-715829f92686",
   "metadata": {},
   "source": [
    "## Seems to work, we know now that no class is present twice in the same batch and that all counts per class per batch are at least 1 "
   ]
  },
  {
   "cell_type": "code",
   "execution_count": 102,
   "id": "6b9f7c1f-3594-4a1c-9e0e-b713b9384524",
   "metadata": {},
   "outputs": [
    {
     "name": "stdout",
     "output_type": "stream",
     "text": [
      "[ 0  1  2  3  4  5  6  7  8  9 10 11 12 13 14 15 16 17 18]\n",
      "[ 7295  2337  5316  3779  3629 28740  1907  6545  2518  8367  2031  1738\n",
      "  3671  4309  2663  3685  2104  2302  7064]\n",
      "19\n"
     ]
    },
    {
     "ename": "RuntimeError",
     "evalue": "The size of tensor a (440) must match the size of tensor b (470) at non-singleton dimension 0",
     "output_type": "error",
     "traceback": [
      "\u001b[0;31m---------------------------------------------------------------------------\u001b[0m",
      "\u001b[0;31mRuntimeError\u001b[0m                              Traceback (most recent call last)",
      "Cell \u001b[0;32mIn[102], line 9\u001b[0m\n\u001b[1;32m      7\u001b[0m sampler\u001b[38;5;241m.\u001b[39mshuffle()\n\u001b[1;32m      8\u001b[0m \u001b[38;5;28;01mfor\u001b[39;00m batch \u001b[38;5;129;01min\u001b[39;00m loader:\n\u001b[0;32m----> 9\u001b[0m     \u001b[38;5;28mprint\u001b[39m(\u001b[43mclasses_a\u001b[49m\u001b[43m \u001b[49m\u001b[38;5;241;43m==\u001b[39;49m\u001b[43m \u001b[49m\u001b[43mbatch\u001b[49m\u001b[43m[\u001b[49m\u001b[38;5;124;43m'\u001b[39;49m\u001b[38;5;124;43ma_classes\u001b[39;49m\u001b[38;5;124;43m'\u001b[39;49m\u001b[43m]\u001b[49m)\n\u001b[1;32m     10\u001b[0m     \u001b[38;5;28mprint\u001b[39m(classes_b \u001b[38;5;241m==\u001b[39m batch[\u001b[38;5;124m'\u001b[39m\u001b[38;5;124mb_classes\u001b[39m\u001b[38;5;124m'\u001b[39m])\n\u001b[1;32m     11\u001b[0m     \u001b[38;5;28;01mbreak\u001b[39;00m\n",
      "\u001b[0;31mRuntimeError\u001b[0m: The size of tensor a (440) must match the size of tensor b (470) at non-singleton dimension 0"
     ]
    }
   ],
   "source": [
    "'try shuffling'\n",
    "for batch in loader:\n",
    "    classes_a = batch['a_classes']\n",
    "    classes_b = batch['b_classes']\n",
    "    break\n",
    "\n",
    "sampler.shuffle()\n",
    "for batch in loader:\n",
    "    print(classes_a == batch['a_classes'])\n",
    "    print(classes_b == batch['b_classes'])\n",
    "    break"
   ]
  },
  {
   "cell_type": "markdown",
   "id": "1db0716a-f5ae-46c2-9992-d2732b55ab19",
   "metadata": {},
   "source": [
    "==> works, only shuffling breaks the shapes"
   ]
  },
  {
   "cell_type": "code",
   "execution_count": null,
   "id": "2c0fa877-4c72-4a4d-a5fe-4f7cb0b5e5fe",
   "metadata": {},
   "outputs": [],
   "source": []
  }
 ],
 "metadata": {
  "kernelspec": {
   "display_name": "contrastive_learn",
   "language": "python",
   "name": "contrastive_learn"
  },
  "language_info": {
   "codemirror_mode": {
    "name": "ipython",
    "version": 3
   },
   "file_extension": ".py",
   "mimetype": "text/x-python",
   "name": "python",
   "nbconvert_exporter": "python",
   "pygments_lexer": "ipython3",
   "version": "3.10.4"
  }
 },
 "nbformat": 4,
 "nbformat_minor": 5
}
